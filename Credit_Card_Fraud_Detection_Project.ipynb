{
  "nbformat": 4,
  "nbformat_minor": 0,
  "metadata": {
    "colab": {
      "provenance": [],
      "collapsed_sections": [
        "4UrLoq8BqA8s",
        "1LD3yWC3qjmo",
        "YXd0CikUqqI7",
        "5R2QqhGdqsNd",
        "vIkWaKzPqu6a",
        "dSEj-IlordjE",
        "GLL8iu0B0XVs",
        "2jOKbTuJ0aP5",
        "36ca-end-Y1I",
        "LG8X3iYmx4KN",
        "IR56trFcPcC1",
        "3e4ENOTYSUXi"
      ],
      "include_colab_link": true
    },
    "kernelspec": {
      "name": "python3",
      "display_name": "Python 3"
    }
  },
  "cells": [
    {
      "cell_type": "markdown",
      "metadata": {
        "id": "view-in-github",
        "colab_type": "text"
      },
      "source": [
        "<a href=\"https://colab.research.google.com/github/gabrielcapela/Credit-Card-Fraud-Detection-/blob/main/Credit_Card_Fraud_Detection_Project.ipynb\" target=\"_parent\"><img src=\"https://colab.research.google.com/assets/colab-badge.svg\" alt=\"Open In Colab\"/></a>"
      ]
    },
    {
      "cell_type": "markdown",
      "metadata": {
        "id": "sC2BFMOKN1M7"
      },
      "source": [
        "---\n",
        "\n",
        "\n",
        "<img width=25% src=\"https://raw.githubusercontent.com/gabrielcapela/Credit-Card-Fraud-Detection-/main/images/myself.png\" align=right>\n",
        "\n",
        "#**Credit Card Fraud Detection Project**\n",
        "\n",
        "*by Gabriel Capela*\n",
        "\n",
        "---\n",
        "Credit card fraud is one of the biggest challenges to financial security in the digital world. According to payments industry research firm [Nilson Report](https://https://nilsonreport.com/), global card losses attributed to fraud reached $33 billion in 2022, affecting consumers, banks and merchants.\n",
        "\n",
        "To mitigate this problem, financial institutions are investing significant amounts in prevention technologies, including systems based on artificial intelligence and machine learning (ML).\n",
        "\n",
        "<p align=\"center\">\n",
        "<img width=60% src=\"https://raw.githubusercontent.com/gabrielcapela/Credit-Card-Fraud-Detection-/main/images/credit_card.jpg\">\n",
        "</p>\n",
        "\n",
        "Despite this effort, the challenge of detecting fraud remains complex. Machine learning techniques need to identify fraudulent transactions with high accuracy, differentiating between false positives (legitimate transactions mistakenly flagged as fraud) and true positives (fraudulent transactions correctly detected). While false positives can result in negative customer experiences, such as having their card blocked while traveling, and damage to the reputation of companies, false negatives, on the other hand, allow fraud to occur.\n",
        "\n",
        "This critical balance makes the problem particularly challenging and interesting for the application of machine learning techniques.\n",
        "\n",
        "The data used was extracted from [Kaggle](https://www.kaggle.com/mlg-ulb/creditcardfraud) and contains thousands of credit card transactions made in September 2013 by European cardholders."
      ]
    },
    {
      "cell_type": "markdown",
      "source": [
        "#**Introduction**"
      ],
      "metadata": {
        "id": "iQT7GuvZooaP"
      }
    },
    {
      "cell_type": "markdown",
      "source": [
        "For this type of problem, **classification algorithms** are ideal, as they are designed to separate data into classes. In this context, we will have two classes, non-fraudulent (Class=0) and fraudulent (Class=1).\n",
        "\n",
        "The problem of detecting credit card fraud is challenging due to class imbalance, since fraudulent transactions represent a minimal fraction of the data, requiring techniques to deal with **imbalanced data**.\n",
        "\n",
        "**Different types of models** will be built, with **different data balancing techniques**, in order to verify the best possible model and be able to extract positive aspects from each one.\n",
        "\n",
        "This project is divided into 5 sections: this section presents an introduction to what will be done; in the **Exploratory Data Analysis** section, the dataset will be analyzed, describing its dimensions, description of the variables and their statistical summaries, in addition to checking for missing values, outliers, distribution and correlation between the variables; in the **Data Preparation** section, the data will be normalized, followed by its division between training, validation and test sets, and finally, the training set will be balanced; in the **Modeling** section, the machine learning models will be created and validated with the validation data; and finally, in the **Final Results** section, the final model will be tested and a brief conclusion will be presented."
      ],
      "metadata": {
        "id": "UmjPGpOups2X"
      }
    },
    {
      "cell_type": "markdown",
      "source": [
        "#**Exploratory Data Analysis**"
      ],
      "metadata": {
        "id": "qaM6bGuaosLm"
      }
    },
    {
      "cell_type": "markdown",
      "source": [
        "##Obtaining and Verifying the Dataset"
      ],
      "metadata": {
        "id": "4UrLoq8BqA8s"
      }
    },
    {
      "cell_type": "markdown",
      "source": [
        "The dataset was retrieved from the [Kaggle](https://www.kaggle.com/mlg-ulb/creditcardfraud) platform and can be downloaded from the following [link](https://www.dropbox.com/s/b44o3t3ehmnx2b7/creditcard.csv?dl=1). The original data was not made available for confidentiality reasons, this file contains only numerical input variables that are the result of a **PCA** transformation.\n",
        "\n",
        "**PCA** (Principal Component Analysis) is a dimensionality reduction technique that transforms correlated variables into a smaller set of independent variables called principal components. It maintains most of the variance of the original data, simplifying the analysis by reducing complexity.\n",
        "   \n",
        "\n"
      ],
      "metadata": {
        "id": "nGl-GYhVsPEp"
      }
    },
    {
      "cell_type": "code",
      "source": [
        "# We start by importing the necessary libraries\n",
        "\n",
        "import pandas as pd\n",
        "import numpy as np\n",
        "import matplotlib.pyplot as plt\n",
        "import seaborn as sns"
      ],
      "metadata": {
        "id": "XiAd8fl2wWQq"
      },
      "execution_count": 71,
      "outputs": []
    },
    {
      "cell_type": "code",
      "source": [
        "# Importing the file and viewing its first lines\n",
        "df = pd.read_csv(\"https://www.dropbox.com/s/b44o3t3ehmnx2b7/creditcard.csv?dl=1\")\n",
        "df.head(10)\n"
      ],
      "metadata": {
        "colab": {
          "base_uri": "https://localhost:8080/",
          "height": 408
        },
        "id": "FuNy_Jgsw-db",
        "outputId": "8ab4774b-2f37-4cd2-8517-4a2952c8aa45"
      },
      "execution_count": 72,
      "outputs": [
        {
          "output_type": "execute_result",
          "data": {
            "text/plain": [
              "   Time        V1        V2        V3        V4        V5        V6        V7  \\\n",
              "0   0.0 -1.359807 -0.072781  2.536347  1.378155 -0.338321  0.462388  0.239599   \n",
              "1   0.0  1.191857  0.266151  0.166480  0.448154  0.060018 -0.082361 -0.078803   \n",
              "2   1.0 -1.358354 -1.340163  1.773209  0.379780 -0.503198  1.800499  0.791461   \n",
              "3   1.0 -0.966272 -0.185226  1.792993 -0.863291 -0.010309  1.247203  0.237609   \n",
              "4   2.0 -1.158233  0.877737  1.548718  0.403034 -0.407193  0.095921  0.592941   \n",
              "5   2.0 -0.425966  0.960523  1.141109 -0.168252  0.420987 -0.029728  0.476201   \n",
              "6   4.0  1.229658  0.141004  0.045371  1.202613  0.191881  0.272708 -0.005159   \n",
              "7   7.0 -0.644269  1.417964  1.074380 -0.492199  0.948934  0.428118  1.120631   \n",
              "8   7.0 -0.894286  0.286157 -0.113192 -0.271526  2.669599  3.721818  0.370145   \n",
              "9   9.0 -0.338262  1.119593  1.044367 -0.222187  0.499361 -0.246761  0.651583   \n",
              "\n",
              "         V8        V9  ...       V21       V22       V23       V24       V25  \\\n",
              "0  0.098698  0.363787  ... -0.018307  0.277838 -0.110474  0.066928  0.128539   \n",
              "1  0.085102 -0.255425  ... -0.225775 -0.638672  0.101288 -0.339846  0.167170   \n",
              "2  0.247676 -1.514654  ...  0.247998  0.771679  0.909412 -0.689281 -0.327642   \n",
              "3  0.377436 -1.387024  ... -0.108300  0.005274 -0.190321 -1.175575  0.647376   \n",
              "4 -0.270533  0.817739  ... -0.009431  0.798278 -0.137458  0.141267 -0.206010   \n",
              "5  0.260314 -0.568671  ... -0.208254 -0.559825 -0.026398 -0.371427 -0.232794   \n",
              "6  0.081213  0.464960  ... -0.167716 -0.270710 -0.154104 -0.780055  0.750137   \n",
              "7 -3.807864  0.615375  ...  1.943465 -1.015455  0.057504 -0.649709 -0.415267   \n",
              "8  0.851084 -0.392048  ... -0.073425 -0.268092 -0.204233  1.011592  0.373205   \n",
              "9  0.069539 -0.736727  ... -0.246914 -0.633753 -0.120794 -0.385050 -0.069733   \n",
              "\n",
              "        V26       V27       V28  Amount  Class  \n",
              "0 -0.189115  0.133558 -0.021053  149.62      0  \n",
              "1  0.125895 -0.008983  0.014724    2.69      0  \n",
              "2 -0.139097 -0.055353 -0.059752  378.66      0  \n",
              "3 -0.221929  0.062723  0.061458  123.50      0  \n",
              "4  0.502292  0.219422  0.215153   69.99      0  \n",
              "5  0.105915  0.253844  0.081080    3.67      0  \n",
              "6 -0.257237  0.034507  0.005168    4.99      0  \n",
              "7 -0.051634 -1.206921 -1.085339   40.80      0  \n",
              "8 -0.384157  0.011747  0.142404   93.20      0  \n",
              "9  0.094199  0.246219  0.083076    3.68      0  \n",
              "\n",
              "[10 rows x 31 columns]"
            ],
            "text/html": [
              "\n",
              "  <div id=\"df-e17d03fc-f481-41fa-ada2-e4aa83a164c2\" class=\"colab-df-container\">\n",
              "    <div>\n",
              "<style scoped>\n",
              "    .dataframe tbody tr th:only-of-type {\n",
              "        vertical-align: middle;\n",
              "    }\n",
              "\n",
              "    .dataframe tbody tr th {\n",
              "        vertical-align: top;\n",
              "    }\n",
              "\n",
              "    .dataframe thead th {\n",
              "        text-align: right;\n",
              "    }\n",
              "</style>\n",
              "<table border=\"1\" class=\"dataframe\">\n",
              "  <thead>\n",
              "    <tr style=\"text-align: right;\">\n",
              "      <th></th>\n",
              "      <th>Time</th>\n",
              "      <th>V1</th>\n",
              "      <th>V2</th>\n",
              "      <th>V3</th>\n",
              "      <th>V4</th>\n",
              "      <th>V5</th>\n",
              "      <th>V6</th>\n",
              "      <th>V7</th>\n",
              "      <th>V8</th>\n",
              "      <th>V9</th>\n",
              "      <th>...</th>\n",
              "      <th>V21</th>\n",
              "      <th>V22</th>\n",
              "      <th>V23</th>\n",
              "      <th>V24</th>\n",
              "      <th>V25</th>\n",
              "      <th>V26</th>\n",
              "      <th>V27</th>\n",
              "      <th>V28</th>\n",
              "      <th>Amount</th>\n",
              "      <th>Class</th>\n",
              "    </tr>\n",
              "  </thead>\n",
              "  <tbody>\n",
              "    <tr>\n",
              "      <th>0</th>\n",
              "      <td>0.0</td>\n",
              "      <td>-1.359807</td>\n",
              "      <td>-0.072781</td>\n",
              "      <td>2.536347</td>\n",
              "      <td>1.378155</td>\n",
              "      <td>-0.338321</td>\n",
              "      <td>0.462388</td>\n",
              "      <td>0.239599</td>\n",
              "      <td>0.098698</td>\n",
              "      <td>0.363787</td>\n",
              "      <td>...</td>\n",
              "      <td>-0.018307</td>\n",
              "      <td>0.277838</td>\n",
              "      <td>-0.110474</td>\n",
              "      <td>0.066928</td>\n",
              "      <td>0.128539</td>\n",
              "      <td>-0.189115</td>\n",
              "      <td>0.133558</td>\n",
              "      <td>-0.021053</td>\n",
              "      <td>149.62</td>\n",
              "      <td>0</td>\n",
              "    </tr>\n",
              "    <tr>\n",
              "      <th>1</th>\n",
              "      <td>0.0</td>\n",
              "      <td>1.191857</td>\n",
              "      <td>0.266151</td>\n",
              "      <td>0.166480</td>\n",
              "      <td>0.448154</td>\n",
              "      <td>0.060018</td>\n",
              "      <td>-0.082361</td>\n",
              "      <td>-0.078803</td>\n",
              "      <td>0.085102</td>\n",
              "      <td>-0.255425</td>\n",
              "      <td>...</td>\n",
              "      <td>-0.225775</td>\n",
              "      <td>-0.638672</td>\n",
              "      <td>0.101288</td>\n",
              "      <td>-0.339846</td>\n",
              "      <td>0.167170</td>\n",
              "      <td>0.125895</td>\n",
              "      <td>-0.008983</td>\n",
              "      <td>0.014724</td>\n",
              "      <td>2.69</td>\n",
              "      <td>0</td>\n",
              "    </tr>\n",
              "    <tr>\n",
              "      <th>2</th>\n",
              "      <td>1.0</td>\n",
              "      <td>-1.358354</td>\n",
              "      <td>-1.340163</td>\n",
              "      <td>1.773209</td>\n",
              "      <td>0.379780</td>\n",
              "      <td>-0.503198</td>\n",
              "      <td>1.800499</td>\n",
              "      <td>0.791461</td>\n",
              "      <td>0.247676</td>\n",
              "      <td>-1.514654</td>\n",
              "      <td>...</td>\n",
              "      <td>0.247998</td>\n",
              "      <td>0.771679</td>\n",
              "      <td>0.909412</td>\n",
              "      <td>-0.689281</td>\n",
              "      <td>-0.327642</td>\n",
              "      <td>-0.139097</td>\n",
              "      <td>-0.055353</td>\n",
              "      <td>-0.059752</td>\n",
              "      <td>378.66</td>\n",
              "      <td>0</td>\n",
              "    </tr>\n",
              "    <tr>\n",
              "      <th>3</th>\n",
              "      <td>1.0</td>\n",
              "      <td>-0.966272</td>\n",
              "      <td>-0.185226</td>\n",
              "      <td>1.792993</td>\n",
              "      <td>-0.863291</td>\n",
              "      <td>-0.010309</td>\n",
              "      <td>1.247203</td>\n",
              "      <td>0.237609</td>\n",
              "      <td>0.377436</td>\n",
              "      <td>-1.387024</td>\n",
              "      <td>...</td>\n",
              "      <td>-0.108300</td>\n",
              "      <td>0.005274</td>\n",
              "      <td>-0.190321</td>\n",
              "      <td>-1.175575</td>\n",
              "      <td>0.647376</td>\n",
              "      <td>-0.221929</td>\n",
              "      <td>0.062723</td>\n",
              "      <td>0.061458</td>\n",
              "      <td>123.50</td>\n",
              "      <td>0</td>\n",
              "    </tr>\n",
              "    <tr>\n",
              "      <th>4</th>\n",
              "      <td>2.0</td>\n",
              "      <td>-1.158233</td>\n",
              "      <td>0.877737</td>\n",
              "      <td>1.548718</td>\n",
              "      <td>0.403034</td>\n",
              "      <td>-0.407193</td>\n",
              "      <td>0.095921</td>\n",
              "      <td>0.592941</td>\n",
              "      <td>-0.270533</td>\n",
              "      <td>0.817739</td>\n",
              "      <td>...</td>\n",
              "      <td>-0.009431</td>\n",
              "      <td>0.798278</td>\n",
              "      <td>-0.137458</td>\n",
              "      <td>0.141267</td>\n",
              "      <td>-0.206010</td>\n",
              "      <td>0.502292</td>\n",
              "      <td>0.219422</td>\n",
              "      <td>0.215153</td>\n",
              "      <td>69.99</td>\n",
              "      <td>0</td>\n",
              "    </tr>\n",
              "    <tr>\n",
              "      <th>5</th>\n",
              "      <td>2.0</td>\n",
              "      <td>-0.425966</td>\n",
              "      <td>0.960523</td>\n",
              "      <td>1.141109</td>\n",
              "      <td>-0.168252</td>\n",
              "      <td>0.420987</td>\n",
              "      <td>-0.029728</td>\n",
              "      <td>0.476201</td>\n",
              "      <td>0.260314</td>\n",
              "      <td>-0.568671</td>\n",
              "      <td>...</td>\n",
              "      <td>-0.208254</td>\n",
              "      <td>-0.559825</td>\n",
              "      <td>-0.026398</td>\n",
              "      <td>-0.371427</td>\n",
              "      <td>-0.232794</td>\n",
              "      <td>0.105915</td>\n",
              "      <td>0.253844</td>\n",
              "      <td>0.081080</td>\n",
              "      <td>3.67</td>\n",
              "      <td>0</td>\n",
              "    </tr>\n",
              "    <tr>\n",
              "      <th>6</th>\n",
              "      <td>4.0</td>\n",
              "      <td>1.229658</td>\n",
              "      <td>0.141004</td>\n",
              "      <td>0.045371</td>\n",
              "      <td>1.202613</td>\n",
              "      <td>0.191881</td>\n",
              "      <td>0.272708</td>\n",
              "      <td>-0.005159</td>\n",
              "      <td>0.081213</td>\n",
              "      <td>0.464960</td>\n",
              "      <td>...</td>\n",
              "      <td>-0.167716</td>\n",
              "      <td>-0.270710</td>\n",
              "      <td>-0.154104</td>\n",
              "      <td>-0.780055</td>\n",
              "      <td>0.750137</td>\n",
              "      <td>-0.257237</td>\n",
              "      <td>0.034507</td>\n",
              "      <td>0.005168</td>\n",
              "      <td>4.99</td>\n",
              "      <td>0</td>\n",
              "    </tr>\n",
              "    <tr>\n",
              "      <th>7</th>\n",
              "      <td>7.0</td>\n",
              "      <td>-0.644269</td>\n",
              "      <td>1.417964</td>\n",
              "      <td>1.074380</td>\n",
              "      <td>-0.492199</td>\n",
              "      <td>0.948934</td>\n",
              "      <td>0.428118</td>\n",
              "      <td>1.120631</td>\n",
              "      <td>-3.807864</td>\n",
              "      <td>0.615375</td>\n",
              "      <td>...</td>\n",
              "      <td>1.943465</td>\n",
              "      <td>-1.015455</td>\n",
              "      <td>0.057504</td>\n",
              "      <td>-0.649709</td>\n",
              "      <td>-0.415267</td>\n",
              "      <td>-0.051634</td>\n",
              "      <td>-1.206921</td>\n",
              "      <td>-1.085339</td>\n",
              "      <td>40.80</td>\n",
              "      <td>0</td>\n",
              "    </tr>\n",
              "    <tr>\n",
              "      <th>8</th>\n",
              "      <td>7.0</td>\n",
              "      <td>-0.894286</td>\n",
              "      <td>0.286157</td>\n",
              "      <td>-0.113192</td>\n",
              "      <td>-0.271526</td>\n",
              "      <td>2.669599</td>\n",
              "      <td>3.721818</td>\n",
              "      <td>0.370145</td>\n",
              "      <td>0.851084</td>\n",
              "      <td>-0.392048</td>\n",
              "      <td>...</td>\n",
              "      <td>-0.073425</td>\n",
              "      <td>-0.268092</td>\n",
              "      <td>-0.204233</td>\n",
              "      <td>1.011592</td>\n",
              "      <td>0.373205</td>\n",
              "      <td>-0.384157</td>\n",
              "      <td>0.011747</td>\n",
              "      <td>0.142404</td>\n",
              "      <td>93.20</td>\n",
              "      <td>0</td>\n",
              "    </tr>\n",
              "    <tr>\n",
              "      <th>9</th>\n",
              "      <td>9.0</td>\n",
              "      <td>-0.338262</td>\n",
              "      <td>1.119593</td>\n",
              "      <td>1.044367</td>\n",
              "      <td>-0.222187</td>\n",
              "      <td>0.499361</td>\n",
              "      <td>-0.246761</td>\n",
              "      <td>0.651583</td>\n",
              "      <td>0.069539</td>\n",
              "      <td>-0.736727</td>\n",
              "      <td>...</td>\n",
              "      <td>-0.246914</td>\n",
              "      <td>-0.633753</td>\n",
              "      <td>-0.120794</td>\n",
              "      <td>-0.385050</td>\n",
              "      <td>-0.069733</td>\n",
              "      <td>0.094199</td>\n",
              "      <td>0.246219</td>\n",
              "      <td>0.083076</td>\n",
              "      <td>3.68</td>\n",
              "      <td>0</td>\n",
              "    </tr>\n",
              "  </tbody>\n",
              "</table>\n",
              "<p>10 rows × 31 columns</p>\n",
              "</div>\n",
              "    <div class=\"colab-df-buttons\">\n",
              "\n",
              "  <div class=\"colab-df-container\">\n",
              "    <button class=\"colab-df-convert\" onclick=\"convertToInteractive('df-e17d03fc-f481-41fa-ada2-e4aa83a164c2')\"\n",
              "            title=\"Convert this dataframe to an interactive table.\"\n",
              "            style=\"display:none;\">\n",
              "\n",
              "  <svg xmlns=\"http://www.w3.org/2000/svg\" height=\"24px\" viewBox=\"0 -960 960 960\">\n",
              "    <path d=\"M120-120v-720h720v720H120Zm60-500h600v-160H180v160Zm220 220h160v-160H400v160Zm0 220h160v-160H400v160ZM180-400h160v-160H180v160Zm440 0h160v-160H620v160ZM180-180h160v-160H180v160Zm440 0h160v-160H620v160Z\"/>\n",
              "  </svg>\n",
              "    </button>\n",
              "\n",
              "  <style>\n",
              "    .colab-df-container {\n",
              "      display:flex;\n",
              "      gap: 12px;\n",
              "    }\n",
              "\n",
              "    .colab-df-convert {\n",
              "      background-color: #E8F0FE;\n",
              "      border: none;\n",
              "      border-radius: 50%;\n",
              "      cursor: pointer;\n",
              "      display: none;\n",
              "      fill: #1967D2;\n",
              "      height: 32px;\n",
              "      padding: 0 0 0 0;\n",
              "      width: 32px;\n",
              "    }\n",
              "\n",
              "    .colab-df-convert:hover {\n",
              "      background-color: #E2EBFA;\n",
              "      box-shadow: 0px 1px 2px rgba(60, 64, 67, 0.3), 0px 1px 3px 1px rgba(60, 64, 67, 0.15);\n",
              "      fill: #174EA6;\n",
              "    }\n",
              "\n",
              "    .colab-df-buttons div {\n",
              "      margin-bottom: 4px;\n",
              "    }\n",
              "\n",
              "    [theme=dark] .colab-df-convert {\n",
              "      background-color: #3B4455;\n",
              "      fill: #D2E3FC;\n",
              "    }\n",
              "\n",
              "    [theme=dark] .colab-df-convert:hover {\n",
              "      background-color: #434B5C;\n",
              "      box-shadow: 0px 1px 3px 1px rgba(0, 0, 0, 0.15);\n",
              "      filter: drop-shadow(0px 1px 2px rgba(0, 0, 0, 0.3));\n",
              "      fill: #FFFFFF;\n",
              "    }\n",
              "  </style>\n",
              "\n",
              "    <script>\n",
              "      const buttonEl =\n",
              "        document.querySelector('#df-e17d03fc-f481-41fa-ada2-e4aa83a164c2 button.colab-df-convert');\n",
              "      buttonEl.style.display =\n",
              "        google.colab.kernel.accessAllowed ? 'block' : 'none';\n",
              "\n",
              "      async function convertToInteractive(key) {\n",
              "        const element = document.querySelector('#df-e17d03fc-f481-41fa-ada2-e4aa83a164c2');\n",
              "        const dataTable =\n",
              "          await google.colab.kernel.invokeFunction('convertToInteractive',\n",
              "                                                    [key], {});\n",
              "        if (!dataTable) return;\n",
              "\n",
              "        const docLinkHtml = 'Like what you see? Visit the ' +\n",
              "          '<a target=\"_blank\" href=https://colab.research.google.com/notebooks/data_table.ipynb>data table notebook</a>'\n",
              "          + ' to learn more about interactive tables.';\n",
              "        element.innerHTML = '';\n",
              "        dataTable['output_type'] = 'display_data';\n",
              "        await google.colab.output.renderOutput(dataTable, element);\n",
              "        const docLink = document.createElement('div');\n",
              "        docLink.innerHTML = docLinkHtml;\n",
              "        element.appendChild(docLink);\n",
              "      }\n",
              "    </script>\n",
              "  </div>\n",
              "\n",
              "\n",
              "<div id=\"df-b4b802cb-e781-4c03-87f0-efd2ac374066\">\n",
              "  <button class=\"colab-df-quickchart\" onclick=\"quickchart('df-b4b802cb-e781-4c03-87f0-efd2ac374066')\"\n",
              "            title=\"Suggest charts\"\n",
              "            style=\"display:none;\">\n",
              "\n",
              "<svg xmlns=\"http://www.w3.org/2000/svg\" height=\"24px\"viewBox=\"0 0 24 24\"\n",
              "     width=\"24px\">\n",
              "    <g>\n",
              "        <path d=\"M19 3H5c-1.1 0-2 .9-2 2v14c0 1.1.9 2 2 2h14c1.1 0 2-.9 2-2V5c0-1.1-.9-2-2-2zM9 17H7v-7h2v7zm4 0h-2V7h2v10zm4 0h-2v-4h2v4z\"/>\n",
              "    </g>\n",
              "</svg>\n",
              "  </button>\n",
              "\n",
              "<style>\n",
              "  .colab-df-quickchart {\n",
              "      --bg-color: #E8F0FE;\n",
              "      --fill-color: #1967D2;\n",
              "      --hover-bg-color: #E2EBFA;\n",
              "      --hover-fill-color: #174EA6;\n",
              "      --disabled-fill-color: #AAA;\n",
              "      --disabled-bg-color: #DDD;\n",
              "  }\n",
              "\n",
              "  [theme=dark] .colab-df-quickchart {\n",
              "      --bg-color: #3B4455;\n",
              "      --fill-color: #D2E3FC;\n",
              "      --hover-bg-color: #434B5C;\n",
              "      --hover-fill-color: #FFFFFF;\n",
              "      --disabled-bg-color: #3B4455;\n",
              "      --disabled-fill-color: #666;\n",
              "  }\n",
              "\n",
              "  .colab-df-quickchart {\n",
              "    background-color: var(--bg-color);\n",
              "    border: none;\n",
              "    border-radius: 50%;\n",
              "    cursor: pointer;\n",
              "    display: none;\n",
              "    fill: var(--fill-color);\n",
              "    height: 32px;\n",
              "    padding: 0;\n",
              "    width: 32px;\n",
              "  }\n",
              "\n",
              "  .colab-df-quickchart:hover {\n",
              "    background-color: var(--hover-bg-color);\n",
              "    box-shadow: 0 1px 2px rgba(60, 64, 67, 0.3), 0 1px 3px 1px rgba(60, 64, 67, 0.15);\n",
              "    fill: var(--button-hover-fill-color);\n",
              "  }\n",
              "\n",
              "  .colab-df-quickchart-complete:disabled,\n",
              "  .colab-df-quickchart-complete:disabled:hover {\n",
              "    background-color: var(--disabled-bg-color);\n",
              "    fill: var(--disabled-fill-color);\n",
              "    box-shadow: none;\n",
              "  }\n",
              "\n",
              "  .colab-df-spinner {\n",
              "    border: 2px solid var(--fill-color);\n",
              "    border-color: transparent;\n",
              "    border-bottom-color: var(--fill-color);\n",
              "    animation:\n",
              "      spin 1s steps(1) infinite;\n",
              "  }\n",
              "\n",
              "  @keyframes spin {\n",
              "    0% {\n",
              "      border-color: transparent;\n",
              "      border-bottom-color: var(--fill-color);\n",
              "      border-left-color: var(--fill-color);\n",
              "    }\n",
              "    20% {\n",
              "      border-color: transparent;\n",
              "      border-left-color: var(--fill-color);\n",
              "      border-top-color: var(--fill-color);\n",
              "    }\n",
              "    30% {\n",
              "      border-color: transparent;\n",
              "      border-left-color: var(--fill-color);\n",
              "      border-top-color: var(--fill-color);\n",
              "      border-right-color: var(--fill-color);\n",
              "    }\n",
              "    40% {\n",
              "      border-color: transparent;\n",
              "      border-right-color: var(--fill-color);\n",
              "      border-top-color: var(--fill-color);\n",
              "    }\n",
              "    60% {\n",
              "      border-color: transparent;\n",
              "      border-right-color: var(--fill-color);\n",
              "    }\n",
              "    80% {\n",
              "      border-color: transparent;\n",
              "      border-right-color: var(--fill-color);\n",
              "      border-bottom-color: var(--fill-color);\n",
              "    }\n",
              "    90% {\n",
              "      border-color: transparent;\n",
              "      border-bottom-color: var(--fill-color);\n",
              "    }\n",
              "  }\n",
              "</style>\n",
              "\n",
              "  <script>\n",
              "    async function quickchart(key) {\n",
              "      const quickchartButtonEl =\n",
              "        document.querySelector('#' + key + ' button');\n",
              "      quickchartButtonEl.disabled = true;  // To prevent multiple clicks.\n",
              "      quickchartButtonEl.classList.add('colab-df-spinner');\n",
              "      try {\n",
              "        const charts = await google.colab.kernel.invokeFunction(\n",
              "            'suggestCharts', [key], {});\n",
              "      } catch (error) {\n",
              "        console.error('Error during call to suggestCharts:', error);\n",
              "      }\n",
              "      quickchartButtonEl.classList.remove('colab-df-spinner');\n",
              "      quickchartButtonEl.classList.add('colab-df-quickchart-complete');\n",
              "    }\n",
              "    (() => {\n",
              "      let quickchartButtonEl =\n",
              "        document.querySelector('#df-b4b802cb-e781-4c03-87f0-efd2ac374066 button');\n",
              "      quickchartButtonEl.style.display =\n",
              "        google.colab.kernel.accessAllowed ? 'block' : 'none';\n",
              "    })();\n",
              "  </script>\n",
              "</div>\n",
              "\n",
              "    </div>\n",
              "  </div>\n"
            ],
            "application/vnd.google.colaboratory.intrinsic+json": {
              "type": "dataframe",
              "variable_name": "df"
            }
          },
          "metadata": {},
          "execution_count": 72
        }
      ]
    },
    {
      "cell_type": "code",
      "source": [
        "# Viewing your size\n",
        "print(f\"The dataset has {df.shape[0]} entries and {df.shape[0]-1} variables that will be used to predict the 'Class' column\")\n",
        "df.shape"
      ],
      "metadata": {
        "colab": {
          "base_uri": "https://localhost:8080/"
        },
        "id": "N8qYbVtafDWO",
        "outputId": "308c44a8-981c-473d-aa7c-4a0a07eaadea"
      },
      "execution_count": 73,
      "outputs": [
        {
          "output_type": "stream",
          "name": "stdout",
          "text": [
            "The dataset has 284807 entries and 284806 variables that will be used to predict the 'Class' column\n"
          ]
        },
        {
          "output_type": "execute_result",
          "data": {
            "text/plain": [
              "(284807, 31)"
            ]
          },
          "metadata": {},
          "execution_count": 73
        }
      ]
    },
    {
      "cell_type": "markdown",
      "source": [
        "The variables **V1, V2, … V28** are the principal components obtained with PCA, the only variables that were not transformed with PCA are **Time**, **Amount** and **Class**.\n",
        "\n",
        "The variable **Time** contains the time (in seconds) elapsed between each transaction and the first transaction in the dataset; the variable **Amount** is the transaction value; and the variable **Class** is our target, assuming the value 1 in case of fraud and 0 otherwise.\n",
        "  "
      ],
      "metadata": {
        "id": "kY3j4xVEcyjh"
      }
    },
    {
      "cell_type": "code",
      "source": [
        "# Confirming the data type and obtaining a descriptive summary:\n",
        "print(df.dtypes)\n",
        "print(df.describe())"
      ],
      "metadata": {
        "colab": {
          "base_uri": "https://localhost:8080/"
        },
        "id": "-D2ki4WsfRxY",
        "outputId": "d5b3e7ea-4119-4788-9845-f03de5752bb3"
      },
      "execution_count": 74,
      "outputs": [
        {
          "output_type": "stream",
          "name": "stdout",
          "text": [
            "Time      float64\n",
            "V1        float64\n",
            "V2        float64\n",
            "V3        float64\n",
            "V4        float64\n",
            "V5        float64\n",
            "V6        float64\n",
            "V7        float64\n",
            "V8        float64\n",
            "V9        float64\n",
            "V10       float64\n",
            "V11       float64\n",
            "V12       float64\n",
            "V13       float64\n",
            "V14       float64\n",
            "V15       float64\n",
            "V16       float64\n",
            "V17       float64\n",
            "V18       float64\n",
            "V19       float64\n",
            "V20       float64\n",
            "V21       float64\n",
            "V22       float64\n",
            "V23       float64\n",
            "V24       float64\n",
            "V25       float64\n",
            "V26       float64\n",
            "V27       float64\n",
            "V28       float64\n",
            "Amount    float64\n",
            "Class       int64\n",
            "dtype: object\n",
            "                Time            V1            V2            V3            V4  \\\n",
            "count  284807.000000  2.848070e+05  2.848070e+05  2.848070e+05  2.848070e+05   \n",
            "mean    94813.859575  1.168375e-15  3.416908e-16 -1.379537e-15  2.074095e-15   \n",
            "std     47488.145955  1.958696e+00  1.651309e+00  1.516255e+00  1.415869e+00   \n",
            "min         0.000000 -5.640751e+01 -7.271573e+01 -4.832559e+01 -5.683171e+00   \n",
            "25%     54201.500000 -9.203734e-01 -5.985499e-01 -8.903648e-01 -8.486401e-01   \n",
            "50%     84692.000000  1.810880e-02  6.548556e-02  1.798463e-01 -1.984653e-02   \n",
            "75%    139320.500000  1.315642e+00  8.037239e-01  1.027196e+00  7.433413e-01   \n",
            "max    172792.000000  2.454930e+00  2.205773e+01  9.382558e+00  1.687534e+01   \n",
            "\n",
            "                 V5            V6            V7            V8            V9  \\\n",
            "count  2.848070e+05  2.848070e+05  2.848070e+05  2.848070e+05  2.848070e+05   \n",
            "mean   9.604066e-16  1.487313e-15 -5.556467e-16  1.213481e-16 -2.406331e-15   \n",
            "std    1.380247e+00  1.332271e+00  1.237094e+00  1.194353e+00  1.098632e+00   \n",
            "min   -1.137433e+02 -2.616051e+01 -4.355724e+01 -7.321672e+01 -1.343407e+01   \n",
            "25%   -6.915971e-01 -7.682956e-01 -5.540759e-01 -2.086297e-01 -6.430976e-01   \n",
            "50%   -5.433583e-02 -2.741871e-01  4.010308e-02  2.235804e-02 -5.142873e-02   \n",
            "75%    6.119264e-01  3.985649e-01  5.704361e-01  3.273459e-01  5.971390e-01   \n",
            "max    3.480167e+01  7.330163e+01  1.205895e+02  2.000721e+01  1.559499e+01   \n",
            "\n",
            "       ...           V21           V22           V23           V24  \\\n",
            "count  ...  2.848070e+05  2.848070e+05  2.848070e+05  2.848070e+05   \n",
            "mean   ...  1.654067e-16 -3.568593e-16  2.578648e-16  4.473266e-15   \n",
            "std    ...  7.345240e-01  7.257016e-01  6.244603e-01  6.056471e-01   \n",
            "min    ... -3.483038e+01 -1.093314e+01 -4.480774e+01 -2.836627e+00   \n",
            "25%    ... -2.283949e-01 -5.423504e-01 -1.618463e-01 -3.545861e-01   \n",
            "50%    ... -2.945017e-02  6.781943e-03 -1.119293e-02  4.097606e-02   \n",
            "75%    ...  1.863772e-01  5.285536e-01  1.476421e-01  4.395266e-01   \n",
            "max    ...  2.720284e+01  1.050309e+01  2.252841e+01  4.584549e+00   \n",
            "\n",
            "                V25           V26           V27           V28         Amount  \\\n",
            "count  2.848070e+05  2.848070e+05  2.848070e+05  2.848070e+05  284807.000000   \n",
            "mean   5.340915e-16  1.683437e-15 -3.660091e-16 -1.227390e-16      88.349619   \n",
            "std    5.212781e-01  4.822270e-01  4.036325e-01  3.300833e-01     250.120109   \n",
            "min   -1.029540e+01 -2.604551e+00 -2.256568e+01 -1.543008e+01       0.000000   \n",
            "25%   -3.171451e-01 -3.269839e-01 -7.083953e-02 -5.295979e-02       5.600000   \n",
            "50%    1.659350e-02 -5.213911e-02  1.342146e-03  1.124383e-02      22.000000   \n",
            "75%    3.507156e-01  2.409522e-01  9.104512e-02  7.827995e-02      77.165000   \n",
            "max    7.519589e+00  3.517346e+00  3.161220e+01  3.384781e+01   25691.160000   \n",
            "\n",
            "               Class  \n",
            "count  284807.000000  \n",
            "mean        0.001727  \n",
            "std         0.041527  \n",
            "min         0.000000  \n",
            "25%         0.000000  \n",
            "50%         0.000000  \n",
            "75%         0.000000  \n",
            "max         1.000000  \n",
            "\n",
            "[8 rows x 31 columns]\n"
          ]
        }
      ]
    },
    {
      "cell_type": "markdown",
      "source": [
        "It is confirmed that all data is numerical. It is worth noting that the average transaction value (**Amount)** is 88; and the average in the **Class** column is very low, highlighting the imbalance in the data."
      ],
      "metadata": {
        "id": "N8DPT8XGgyS5"
      }
    },
    {
      "cell_type": "markdown",
      "source": [
        "##Verification and Treatment of missing values"
      ],
      "metadata": {
        "id": "1LD3yWC3qjmo"
      }
    },
    {
      "cell_type": "code",
      "source": [
        " # Checking total missing values ​​per column\n",
        " print(df.isnull().sum())"
      ],
      "metadata": {
        "colab": {
          "base_uri": "https://localhost:8080/"
        },
        "id": "C8UqL8Zpfrv6",
        "outputId": "94e02b98-1c47-407b-99e7-9907af4b5507"
      },
      "execution_count": 75,
      "outputs": [
        {
          "output_type": "stream",
          "name": "stdout",
          "text": [
            "Time      0\n",
            "V1        0\n",
            "V2        0\n",
            "V3        0\n",
            "V4        0\n",
            "V5        0\n",
            "V6        0\n",
            "V7        0\n",
            "V8        0\n",
            "V9        0\n",
            "V10       0\n",
            "V11       0\n",
            "V12       0\n",
            "V13       0\n",
            "V14       0\n",
            "V15       0\n",
            "V16       0\n",
            "V17       0\n",
            "V18       0\n",
            "V19       0\n",
            "V20       0\n",
            "V21       0\n",
            "V22       0\n",
            "V23       0\n",
            "V24       0\n",
            "V25       0\n",
            "V26       0\n",
            "V27       0\n",
            "V28       0\n",
            "Amount    0\n",
            "Class     0\n",
            "dtype: int64\n"
          ]
        }
      ]
    },
    {
      "cell_type": "markdown",
      "source": [
        "There are no missing values ​​in the dataset.\n",
        "\n"
      ],
      "metadata": {
        "id": "6F_1bVm6h-D2"
      }
    },
    {
      "cell_type": "markdown",
      "source": [
        "##Identification and Treatment of Outliers"
      ],
      "metadata": {
        "id": "YXd0CikUqqI7"
      }
    },
    {
      "cell_type": "markdown",
      "source": [
        "The existence of **Outliers** will be checked using the **Z-Score** method.\n",
        "\n",
        "The **Z-score** measures the number of standard deviations that a value is away from the mean of a data set. It is obtained using the formula **Z=(X-μ)/σ**, where X is the data analyzed, μ is the mean of that column and σ is the standard deviation of that column. When the threshold |Z|>3, the value is generally considered an outlier.\n",
        "\n",
        "The code below will search for a threshold that **does not eliminate more than 5% of the total data set**. It will also check whether the amount of data to be eliminated has proportionally more fraudulent entries than non-fraudulent ones, in relation to the original dataset.\n",
        "\n",
        "\n",
        "\n",
        "\n",
        "\n"
      ],
      "metadata": {
        "id": "eelUDYzjijXa"
      }
    },
    {
      "cell_type": "code",
      "source": [
        "# Only variables from PCA will be analyzed\n",
        "exclude_columns = ['Time', 'Amount', 'Class']\n",
        "def remove_outliers_zscore(df, exclude_columns, threshold):\n",
        "    df_sem_out = df.copy()\n",
        "\n",
        "    # Identifying numeric columns that are not in exclude_columns\n",
        "    columns_to_check = [col for col in df_sem_out.select_dtypes(include=['number']).columns if col not in exclude_columns]\n",
        "\n",
        "    # Checking each column in turn\n",
        "    for coluna in columns_to_check:\n",
        "        media = df[coluna].mean()\n",
        "        desvio_padrao = df[coluna].std()\n",
        "\n",
        "        # Calculating the Z-Score for the column\n",
        "        z_scores = (df[coluna] - media) / desvio_padrao\n",
        "\n",
        "        # Filter DataFrame by removing rows with Z-Score above threshold\n",
        "        df_sem_out = df[z_scores.abs() <= threshold]\n",
        "\n",
        "    return df_sem_out\n",
        "\n",
        "# Starting with a threshold equal to 3\n",
        "threshold = 3\n",
        "df_sem_out = remove_outliers_zscore(df, exclude_columns, threshold )\n",
        "# Increase the threshold if it eliminates more than 5% of the data\n",
        "while (df_sem_out.shape[0]/df.shape[0]) < 0.95:\n",
        "  threshold += 0.1\n",
        "  df_sem_out = remove_outliers_zscore(df, exclude_columns, threshold )\n",
        "\n",
        "# Displaying the result\n",
        "print(\"Original DataFrame:\", df.shape)\n",
        "print(\"Threshold:\", threshold)\n",
        "print(\"DataFrame without outliers:\", df_sem_out.shape)\n",
        "print(f\"Percentage of data deleted: {(1-(df_sem_out.shape[0]/df.shape[0]))*100:.3f}%\")\n",
        "print(f\"Percentage of genuine data deleted: {(1-(df_sem_out[df_sem_out['Class'] == 0].shape[0])/(df[df['Class'] == 0].shape[0]))*100:.3f}%\")\n",
        "print(f\"Percentage of fraudulent data eliminated: {(1-(df_sem_out[df_sem_out['Class'] == 1].shape[0]/df[df['Class'] == 1].shape[0]))*100:.3f}%\")"
      ],
      "metadata": {
        "colab": {
          "base_uri": "https://localhost:8080/"
        },
        "id": "3gYgKPexgQJ2",
        "outputId": "d5c70da0-1c3a-4772-fc9d-418ab1d04bcc"
      },
      "execution_count": 76,
      "outputs": [
        {
          "output_type": "stream",
          "name": "stdout",
          "text": [
            "Original DataFrame: (284807, 31)\n",
            "Threshold: 3\n",
            "DataFrame without outliers: (281543, 31)\n",
            "Percentage of data deleted: 1.146%\n",
            "Percentage of genuine data deleted: 1.133%\n",
            "Percentage of fraudulent data eliminated: 8.943%\n"
          ]
        }
      ]
    },
    {
      "cell_type": "markdown",
      "source": [
        "A threshold of 3 eliminated only 1.1% of the data. In principle, this data would be eliminated. However, this 1.1% contains 8.9% of the fraud data.\n",
        "\n",
        "The outliers contain a considerable portion of the fraud data, so they will not be eliminated, as they could play an important role in the prediction."
      ],
      "metadata": {
        "id": "_H4SqI0mOPuI"
      }
    },
    {
      "cell_type": "markdown",
      "source": [
        "##Verification of the type of Distribution of variables"
      ],
      "metadata": {
        "id": "5R2QqhGdqsNd"
      }
    },
    {
      "cell_type": "markdown",
      "source": [
        "First, it is important to highlight the imbalance of the data, the data with fraud represents only 0.17% of the dataset:"
      ],
      "metadata": {
        "id": "-n-Fhq829wfA"
      }
    },
    {
      "cell_type": "code",
      "source": [
        "# Suppressing warnings\n",
        "import warnings\n",
        "warnings.filterwarnings(\"ignore\")\n",
        "\n",
        "# Mapping classes to chart labels\n",
        "class_labels = {0: 'Genuine', 1: 'Fraud'}\n",
        "\n",
        "# Create the chart\n",
        "plt.figure(figsize=(3, 6))\n",
        "ax = sns.countplot(data=df, x='Class', palette='viridis')\n",
        "\n",
        "# Changing the labels on the x-axis\n",
        "ax.set_xticklabels([class_labels[i] for i in sorted(df['Class'].unique())],\n",
        "    fontweight='bold')\n",
        "\n",
        "# Adding the count above the bars\n",
        "for p in ax.patches:\n",
        "    ax.annotate(\n",
        "        f'{int(p.get_height())}',\n",
        "        (p.get_x() + p.get_width() / 2., p.get_height()),\n",
        "        ha='center', va='bottom', fontsize=12, color='black'\n",
        "    )\n",
        "\n",
        "# Customizing the chart\n",
        "plt.title('Type of transactions', fontsize=16, pad=35)\n",
        "ax.set_xlabel('')\n",
        "plt.ylabel('Number of transactions', fontsize=12)\n",
        "ax.spines['top'].set_visible(False)\n",
        "ax.spines['right'].set_visible(False)\n",
        "\n",
        "# Displaying the chart\n",
        "plt.show()\n",
        "\n",
        "print(f\"Fraudulent transactions represent only {(df[df['Class'] == 1].shape[0]/df.shape[0])*100:.3f}% of the total data.\")\n"
      ],
      "metadata": {
        "colab": {
          "base_uri": "https://localhost:8080/",
          "height": 604
        },
        "id": "9M73hXpUG8HP",
        "outputId": "f64a823d-971b-4d29-b3ca-32c58c4ffae6"
      },
      "execution_count": 77,
      "outputs": [
        {
          "output_type": "display_data",
          "data": {
            "text/plain": [
              "<Figure size 300x600 with 1 Axes>"
            ],
            "image/png": "[encoded data removed]"
          },
          "metadata": {}
        },
        {
          "output_type": "stream",
          "name": "stdout",
          "text": [
            "Fraudulent transactions represent only 0.173% of the total data.\n"
          ]
        }
      ]
    },
    {
      "cell_type": "markdown",
      "source": [
        "In unbalanced sets like this, the **majority class** will dominate the learning, causing the model to tend to **ignore the minority class**. This would result in high apparent overall accuracy, but low ability to detect the least represented class, which is usually the one of greatest interest, such as fraud or disease.\n",
        "\n",
        "With this, the data will be balanced (same amount for each **Class**) in the **Data Preparation** section.\n",
        "\n",
        "---\n",
        "\n",
        "Another interesting analysis is the mean and median of the transaction value for transactions that were fraudulent.\n",
        "\n",
        "Fraudulent transactions have a higher mean, but this is caused by outliers, since their median is much lower than that of genuine transactions:"
      ],
      "metadata": {
        "id": "C7jjLj3sKj5N"
      }
    },
    {
      "cell_type": "code",
      "source": [
        "print(f'The average value of transactions is {df[\"Amount\"].mean():.2f} and the average value of transactions \\nthat were fraudulent is {df[df[\"Class\"] == 1][\"Amount\"].mean():.2f}.')\n",
        "\n"
      ],
      "metadata": {
        "colab": {
          "base_uri": "https://localhost:8080/"
        },
        "id": "kNWasDxNAIw9",
        "outputId": "96f27f8e-4480-4642-9e4e-64ac9cddc52f"
      },
      "execution_count": 78,
      "outputs": [
        {
          "output_type": "stream",
          "name": "stdout",
          "text": [
            "The average value of transactions is 88.35 and the average value of transactions \n",
            "that were fraudulent is 122.21.\n"
          ]
        }
      ]
    },
    {
      "cell_type": "code",
      "source": [
        "# Also checking the median\n",
        "print(f'The median value of transactions is {df[\"Amount\"].median():.2f} and the median value of transactions \\nthat were fraudulent is {df[df[\"Class\"] == 1][\"Amount\"].median():.2f}.')"
      ],
      "metadata": {
        "colab": {
          "base_uri": "https://localhost:8080/"
        },
        "id": "ou-BuVihTjuf",
        "outputId": "6e8d766f-7769-4f8f-968a-ecdc1fc72a1b"
      },
      "execution_count": 79,
      "outputs": [
        {
          "output_type": "stream",
          "name": "stdout",
          "text": [
            "The median value of transactions is 22.00 and the median value of transactions \n",
            "that were fraudulent is 9.25.\n"
          ]
        }
      ]
    },
    {
      "cell_type": "markdown",
      "source": [
        "##Verification of the Correlation between variables"
      ],
      "metadata": {
        "id": "vIkWaKzPqu6a"
      }
    },
    {
      "cell_type": "markdown",
      "source": [
        "Checking the distribution of transactions over time:\n"
      ],
      "metadata": {
        "id": "i1wKMFHC-RSg"
      }
    },
    {
      "cell_type": "code",
      "source": [
        "# Separating the data into two categories (Class 0 and Class 1) and converting to hours:\n",
        "df_class_0 = df[df['Class'] == 0]['Time'] / 3600\n",
        "df_class_1 = df[df['Class'] == 1]['Time'] / 3600\n",
        "\n",
        "# Creating side-by-side graphs\n",
        "fig, axes = plt.subplots(1, 2, figsize=(12, 6))\n",
        "\n",
        "# Histogram for Class 0\n",
        "axes[0].hist(df_class_0, bins=50, color='lightblue', edgecolor='black')\n",
        "axes[0].set_title('Non-fraudulent transactions', fontsize=14)\n",
        "axes[0].set_xlabel('Time(hours)', fontsize=12)\n",
        "axes[0].set_ylabel('Frequency', fontsize=12)\n",
        "\n",
        "# Histogram for Class 1\n",
        "axes[1].hist(df_class_1, bins=50, color='salmon', edgecolor='black')\n",
        "axes[1].set_title('Fraudulent transactions', fontsize=14)\n",
        "axes[1].set_xlabel('Time(hours)', fontsize=12)\n",
        "axes[1].set_ylabel('Frequency', fontsize=12)\n",
        "\n",
        "# Adjusting the layout\n",
        "plt.tight_layout()\n",
        "\n",
        "# Displaying the chart\n",
        "plt.show()\n",
        "\n"
      ],
      "metadata": {
        "colab": {
          "base_uri": "https://localhost:8080/",
          "height": 607
        },
        "id": "oHfTRKiFLB3M",
        "outputId": "4dae1288-af0b-4652-95ee-1beb663c5682"
      },
      "execution_count": 80,
      "outputs": [
        {
          "output_type": "display_data",
          "data": {
            "text/plain": [
              "<Figure size 1200x600 with 2 Axes>"
            ],
            "image/png": "[encoded data removed]"
          },
          "metadata": {}
        }
      ]
    },
    {
      "cell_type": "markdown",
      "source": [
        "It is possible to notice the biggest peaks in transactions: Between 10 and 20 hours and between 30 and 40 hours. Cycles possibly related to day and night, with fewer transactions occurring in the early hours of the morning.\n",
        "\n",
        "Fraudulent transactions follow this distribution with some small differences.\n",
        "\n",
        "---\n",
        "\n",
        "Checking the distribution of transactions in relation to the amount\n"
      ],
      "metadata": {
        "id": "SA0LPYPsR_T3"
      }
    },
    {
      "cell_type": "code",
      "source": [
        "# Separating data into two categories (Class 0 and Class 1)\n",
        "df_class_0 = df[df['Class'] == 0]['Amount']\n",
        "df_class_1 = df[df['Class'] == 1]['Amount']\n",
        "\n",
        "# Creating side-by-side graphs\n",
        "fig, axes = plt.subplots(1, 2, figsize=(12, 6))\n",
        "\n",
        "# Histogram for Class 0\n",
        "axes[0].hist(df_class_0, bins=50, color='lightblue', edgecolor='black')\n",
        "axes[0].set_title('Non-fraudulent transactions', fontsize=14)\n",
        "axes[0].set_xlabel('Amount', fontsize=12)\n",
        "axes[0].set_ylabel('Frequency', fontsize=12)\n",
        "\n",
        "# Histogram for Class 1\n",
        "axes[1].hist(df_class_1, bins=50, color='salmon', edgecolor='black')\n",
        "axes[1].set_title('Fraudulent transactions', fontsize=14)\n",
        "axes[1].set_xlabel('Amount', fontsize=12)\n",
        "axes[1].set_ylabel('Frequency', fontsize=12)\n",
        "\n",
        "# Adjusting the layout\n",
        "plt.tight_layout()\n",
        "\n",
        "# Displaying the chart\n",
        "plt.show()"
      ],
      "metadata": {
        "colab": {
          "base_uri": "https://localhost:8080/",
          "height": 607
        },
        "id": "bIk4pH_-PqmZ",
        "outputId": "6917c9b6-7a60-4d41-f634-67a8adc841c8"
      },
      "execution_count": 81,
      "outputs": [
        {
          "output_type": "display_data",
          "data": {
            "text/plain": [
              "<Figure size 1200x600 with 2 Axes>"
            ],
            "image/png": "[encoded data removed]"
          },
          "metadata": {}
        }
      ]
    },
    {
      "cell_type": "markdown",
      "source": [
        "The highest concentration of transactions (genuine and fraudulent) can be seen at low values, in accordance with their central values ​​verified in the previous subtopic.\n",
        "\n",
        "---\n",
        "To better verify the relationship between transaction values ​​(**Amount**), we will plot a boxplot graph for the values ​​of fraudulent transactions (**Class** = 1).\n"
      ],
      "metadata": {
        "id": "KdvC28DKTELi"
      }
    },
    {
      "cell_type": "code",
      "source": [
        "# Filter data for fraud (Class == 1)\n",
        "df_fraud = df[df['Class'] == 1]\n",
        "\n",
        "# Creating the boxplot\n",
        "plt.figure(figsize=(15, 3))\n",
        "plt.boxplot(df_fraud['Amount'], vert=False)\n",
        "\n",
        "# Customizing the chart\n",
        "plt.xlabel('Fraud value', fontsize=12)\n",
        "plt.show()\n",
        "\n",
        "# Calculating outliers using the IQR method\n",
        "# Calculating quartiles\n",
        "Q1 = df_fraud['Amount'].quantile(0.25)\n",
        "Q3 = df_fraud['Amount'].quantile(0.75)\n",
        "IQR = Q3 - Q1\n",
        "\n",
        "# Calculate the upper limit\n",
        "upper_limit = Q3 + 1.5 * IQR\n",
        "\n",
        "outliers_above = df_fraud[df_fraud['Amount'] > upper_limit]\n",
        "\n",
        "print(f\"Among the {df_fraud.shape[0]} fraudulent transactions, {outliers_above.shape[0]} are outliers by the Interquartile Range method, used in the boxplot graph, as we can see above.\\n These outliers range from {outliers_above['Amount'].min()} to {outliers_above['Amount'].max()}.\")"
      ],
      "metadata": {
        "colab": {
          "base_uri": "https://localhost:8080/",
          "height": 349
        },
        "id": "B66-q_zCQa-Q",
        "outputId": "1ddb6ac3-e394-45cb-871a-d0651ef81650"
      },
      "execution_count": 83,
      "outputs": [
        {
          "output_type": "display_data",
          "data": {
            "text/plain": [
              "<Figure size 1500x300 with 1 Axes>"
            ],
            "image/png": "[encoded data removed]"
          },
          "metadata": {}
        },
        {
          "output_type": "stream",
          "name": "stdout",
          "text": [
            "Among the 492 fraudulent transactions, 69 are outliers by the Interquartile Range method, used in the boxplot graph, as we can see above.\n",
            " These outliers range from 270.0 to 2125.87.\n"
          ]
        }
      ]
    },
    {
      "cell_type": "markdown",
      "source": [
        "Finally, we will use a **correlation matrix** to check the correlation between 'Class' and all other variables.\n",
        "\n",
        "Values ​​closer to -1 or 1 indicate a strong correlation. Values ​​closer to zero indicate weak/no correlation.\n",
        "\n",
        "We can see that **no variable** correlates strongly with 'Class':"
      ],
      "metadata": {
        "id": "zlKI4acuK8zt"
      }
    },
    {
      "cell_type": "code",
      "source": [
        "# Calculating the correlation of 'Class' with all other variables\n",
        "correlation = df.corr()\n",
        "\n",
        "# Filtering only the correlation of the 'Class' variable\n",
        "correlation_class = correlation[['Class']]\n",
        "\n",
        "# Ploting the correlation matrix\n",
        "plt.figure(figsize=(5, 6))\n",
        "sns.heatmap(correlation_class, annot=True, cmap='RdBu', cbar=True, fmt='.2f', linewidths=0.5)\n",
        "\n",
        "# Customizing the charter\n",
        "plt.title('Correlation of the Class variable with the other variables\\n', fontsize=14)\n",
        "plt.show()"
      ],
      "metadata": {
        "colab": {
          "base_uri": "https://localhost:8080/",
          "height": 568
        },
        "id": "7La6xO4NRbtq",
        "outputId": "0688e04c-379a-4631-ec92-3263a917e91e"
      },
      "execution_count": 84,
      "outputs": [
        {
          "output_type": "display_data",
          "data": {
            "text/plain": [
              "<Figure size 500x600 with 2 Axes>"
            ],
            "image/png": "[encoded data removed]"
          },
          "metadata": {}
        }
      ]
    },
    {
      "cell_type": "markdown",
      "source": [
        "#**Data Preparation**"
      ],
      "metadata": {
        "id": "dSEj-IlordjE"
      }
    },
    {
      "cell_type": "markdown",
      "source": [
        "In this section, the data will be prepared so that it can later be used in **supervised** machine learning models. This preparation includes **normalizing** the data in the \"Time\" and \"Count\" columns, **dividing the dataset** between training, validation, and testing, and finally, including/excluding data to **balance the dataset**, using the **UnderSampling** and **OverSampling** techniques."
      ],
      "metadata": {
        "id": "yVg_GofW0v6x"
      }
    },
    {
      "cell_type": "markdown",
      "source": [
        "##Data Normalization"
      ],
      "metadata": {
        "id": "GLL8iu0B0XVs"
      }
    },
    {
      "cell_type": "markdown",
      "source": [
        "To normalize the Time and Amount columns, the **MinMaxScaler** method will be used, which transforms the data to a **range between 0 and 1.**\n",
        "\n",
        "Normalization is essential in machine learning because many algorithms are sensitive to the scale of the data, which can cause dominance of variables with larger values ​​and affect the convergence and effectiveness of the model."
      ],
      "metadata": {
        "id": "AluqxIwihYJB"
      }
    },
    {
      "cell_type": "code",
      "source": [
        "# Importing the package needed for normalization\n",
        "from sklearn.preprocessing import MinMaxScaler\n",
        "\n",
        "# Using a copy of the dataset\n",
        "df_normalized = df.copy()\n",
        "\n",
        "# Initializing MinMaxScaler\n",
        "scaler = MinMaxScaler()\n",
        "\n",
        "# Normalizing the 'Amount' column\n",
        "df_normalized ['Amount'] = scaler.fit_transform(df[['Amount']])\n",
        "df_normalized ['Time'] = scaler.fit_transform(df[['Time']])\n",
        "\n",
        "df_normalized.tail()"
      ],
      "metadata": {
        "colab": {
          "base_uri": "https://localhost:8080/",
          "height": 253
        },
        "id": "8ZL8v1aH27C_",
        "outputId": "65d34eea-7025-450e-9053-f49fb3823b7e"
      },
      "execution_count": 85,
      "outputs": [
        {
          "output_type": "execute_result",
          "data": {
            "text/plain": [
              "            Time         V1         V2        V3        V4        V5  \\\n",
              "284802  0.999965 -11.881118  10.071785 -9.834783 -2.066656 -5.364473   \n",
              "284803  0.999971  -0.732789  -0.055080  2.035030 -0.738589  0.868229   \n",
              "284804  0.999977   1.919565  -0.301254 -3.249640 -0.557828  2.630515   \n",
              "284805  0.999977  -0.240440   0.530483  0.702510  0.689799 -0.377961   \n",
              "284806  1.000000  -0.533413  -0.189733  0.703337 -0.506271 -0.012546   \n",
              "\n",
              "              V6        V7        V8        V9  ...       V21       V22  \\\n",
              "284802 -2.606837 -4.918215  7.305334  1.914428  ...  0.213454  0.111864   \n",
              "284803  1.058415  0.024330  0.294869  0.584800  ...  0.214205  0.924384   \n",
              "284804  3.031260 -0.296827  0.708417  0.432454  ...  0.232045  0.578229   \n",
              "284805  0.623708 -0.686180  0.679145  0.392087  ...  0.265245  0.800049   \n",
              "284806 -0.649617  1.577006 -0.414650  0.486180  ...  0.261057  0.643078   \n",
              "\n",
              "             V23       V24       V25       V26       V27       V28    Amount  \\\n",
              "284802  1.014480 -0.509348  1.436807  0.250034  0.943651  0.823731  0.000030   \n",
              "284803  0.012463 -1.016226 -0.606624 -0.395255  0.068472 -0.053527  0.000965   \n",
              "284804 -0.037501  0.640134  0.265745 -0.087371  0.004455 -0.026561  0.002642   \n",
              "284805 -0.163298  0.123205 -0.569159  0.546668  0.108821  0.104533  0.000389   \n",
              "284806  0.376777  0.008797 -0.473649 -0.818267 -0.002415  0.013649  0.008446   \n",
              "\n",
              "        Class  \n",
              "284802      0  \n",
              "284803      0  \n",
              "284804      0  \n",
              "284805      0  \n",
              "284806      0  \n",
              "\n",
              "[5 rows x 31 columns]"
            ],
            "text/html": [
              "\n",
              "  <div id=\"df-1ac2707a-69c7-4d7e-b172-a50176b02eb1\" class=\"colab-df-container\">\n",
              "    <div>\n",
              "<style scoped>\n",
              "    .dataframe tbody tr th:only-of-type {\n",
              "        vertical-align: middle;\n",
              "    }\n",
              "\n",
              "    .dataframe tbody tr th {\n",
              "        vertical-align: top;\n",
              "    }\n",
              "\n",
              "    .dataframe thead th {\n",
              "        text-align: right;\n",
              "    }\n",
              "</style>\n",
              "<table border=\"1\" class=\"dataframe\">\n",
              "  <thead>\n",
              "    <tr style=\"text-align: right;\">\n",
              "      <th></th>\n",
              "      <th>Time</th>\n",
              "      <th>V1</th>\n",
              "      <th>V2</th>\n",
              "      <th>V3</th>\n",
              "      <th>V4</th>\n",
              "      <th>V5</th>\n",
              "      <th>V6</th>\n",
              "      <th>V7</th>\n",
              "      <th>V8</th>\n",
              "      <th>V9</th>\n",
              "      <th>...</th>\n",
              "      <th>V21</th>\n",
              "      <th>V22</th>\n",
              "      <th>V23</th>\n",
              "      <th>V24</th>\n",
              "      <th>V25</th>\n",
              "      <th>V26</th>\n",
              "      <th>V27</th>\n",
              "      <th>V28</th>\n",
              "      <th>Amount</th>\n",
              "      <th>Class</th>\n",
              "    </tr>\n",
              "  </thead>\n",
              "  <tbody>\n",
              "    <tr>\n",
              "      <th>284802</th>\n",
              "      <td>0.999965</td>\n",
              "      <td>-11.881118</td>\n",
              "      <td>10.071785</td>\n",
              "      <td>-9.834783</td>\n",
              "      <td>-2.066656</td>\n",
              "      <td>-5.364473</td>\n",
              "      <td>-2.606837</td>\n",
              "      <td>-4.918215</td>\n",
              "      <td>7.305334</td>\n",
              "      <td>1.914428</td>\n",
              "      <td>...</td>\n",
              "      <td>0.213454</td>\n",
              "      <td>0.111864</td>\n",
              "      <td>1.014480</td>\n",
              "      <td>-0.509348</td>\n",
              "      <td>1.436807</td>\n",
              "      <td>0.250034</td>\n",
              "      <td>0.943651</td>\n",
              "      <td>0.823731</td>\n",
              "      <td>0.000030</td>\n",
              "      <td>0</td>\n",
              "    </tr>\n",
              "    <tr>\n",
              "      <th>284803</th>\n",
              "      <td>0.999971</td>\n",
              "      <td>-0.732789</td>\n",
              "      <td>-0.055080</td>\n",
              "      <td>2.035030</td>\n",
              "      <td>-0.738589</td>\n",
              "      <td>0.868229</td>\n",
              "      <td>1.058415</td>\n",
              "      <td>0.024330</td>\n",
              "      <td>0.294869</td>\n",
              "      <td>0.584800</td>\n",
              "      <td>...</td>\n",
              "      <td>0.214205</td>\n",
              "      <td>0.924384</td>\n",
              "      <td>0.012463</td>\n",
              "      <td>-1.016226</td>\n",
              "      <td>-0.606624</td>\n",
              "      <td>-0.395255</td>\n",
              "      <td>0.068472</td>\n",
              "      <td>-0.053527</td>\n",
              "      <td>0.000965</td>\n",
              "      <td>0</td>\n",
              "    </tr>\n",
              "    <tr>\n",
              "      <th>284804</th>\n",
              "      <td>0.999977</td>\n",
              "      <td>1.919565</td>\n",
              "      <td>-0.301254</td>\n",
              "      <td>-3.249640</td>\n",
              "      <td>-0.557828</td>\n",
              "      <td>2.630515</td>\n",
              "      <td>3.031260</td>\n",
              "      <td>-0.296827</td>\n",
              "      <td>0.708417</td>\n",
              "      <td>0.432454</td>\n",
              "      <td>...</td>\n",
              "      <td>0.232045</td>\n",
              "      <td>0.578229</td>\n",
              "      <td>-0.037501</td>\n",
              "      <td>0.640134</td>\n",
              "      <td>0.265745</td>\n",
              "      <td>-0.087371</td>\n",
              "      <td>0.004455</td>\n",
              "      <td>-0.026561</td>\n",
              "      <td>0.002642</td>\n",
              "      <td>0</td>\n",
              "    </tr>\n",
              "    <tr>\n",
              "      <th>284805</th>\n",
              "      <td>0.999977</td>\n",
              "      <td>-0.240440</td>\n",
              "      <td>0.530483</td>\n",
              "      <td>0.702510</td>\n",
              "      <td>0.689799</td>\n",
              "      <td>-0.377961</td>\n",
              "      <td>0.623708</td>\n",
              "      <td>-0.686180</td>\n",
              "      <td>0.679145</td>\n",
              "      <td>0.392087</td>\n",
              "      <td>...</td>\n",
              "      <td>0.265245</td>\n",
              "      <td>0.800049</td>\n",
              "      <td>-0.163298</td>\n",
              "      <td>0.123205</td>\n",
              "      <td>-0.569159</td>\n",
              "      <td>0.546668</td>\n",
              "      <td>0.108821</td>\n",
              "      <td>0.104533</td>\n",
              "      <td>0.000389</td>\n",
              "      <td>0</td>\n",
              "    </tr>\n",
              "    <tr>\n",
              "      <th>284806</th>\n",
              "      <td>1.000000</td>\n",
              "      <td>-0.533413</td>\n",
              "      <td>-0.189733</td>\n",
              "      <td>0.703337</td>\n",
              "      <td>-0.506271</td>\n",
              "      <td>-0.012546</td>\n",
              "      <td>-0.649617</td>\n",
              "      <td>1.577006</td>\n",
              "      <td>-0.414650</td>\n",
              "      <td>0.486180</td>\n",
              "      <td>...</td>\n",
              "      <td>0.261057</td>\n",
              "      <td>0.643078</td>\n",
              "      <td>0.376777</td>\n",
              "      <td>0.008797</td>\n",
              "      <td>-0.473649</td>\n",
              "      <td>-0.818267</td>\n",
              "      <td>-0.002415</td>\n",
              "      <td>0.013649</td>\n",
              "      <td>0.008446</td>\n",
              "      <td>0</td>\n",
              "    </tr>\n",
              "  </tbody>\n",
              "</table>\n",
              "<p>5 rows × 31 columns</p>\n",
              "</div>\n",
              "    <div class=\"colab-df-buttons\">\n",
              "\n",
              "  <div class=\"colab-df-container\">\n",
              "    <button class=\"colab-df-convert\" onclick=\"convertToInteractive('df-1ac2707a-69c7-4d7e-b172-a50176b02eb1')\"\n",
              "            title=\"Convert this dataframe to an interactive table.\"\n",
              "            style=\"display:none;\">\n",
              "\n",
              "  <svg xmlns=\"http://www.w3.org/2000/svg\" height=\"24px\" viewBox=\"0 -960 960 960\">\n",
              "    <path d=\"M120-120v-720h720v720H120Zm60-500h600v-160H180v160Zm220 220h160v-160H400v160Zm0 220h160v-160H400v160ZM180-400h160v-160H180v160Zm440 0h160v-160H620v160ZM180-180h160v-160H180v160Zm440 0h160v-160H620v160Z\"/>\n",
              "  </svg>\n",
              "    </button>\n",
              "\n",
              "  <style>\n",
              "    .colab-df-container {\n",
              "      display:flex;\n",
              "      gap: 12px;\n",
              "    }\n",
              "\n",
              "    .colab-df-convert {\n",
              "      background-color: #E8F0FE;\n",
              "      border: none;\n",
              "      border-radius: 50%;\n",
              "      cursor: pointer;\n",
              "      display: none;\n",
              "      fill: #1967D2;\n",
              "      height: 32px;\n",
              "      padding: 0 0 0 0;\n",
              "      width: 32px;\n",
              "    }\n",
              "\n",
              "    .colab-df-convert:hover {\n",
              "      background-color: #E2EBFA;\n",
              "      box-shadow: 0px 1px 2px rgba(60, 64, 67, 0.3), 0px 1px 3px 1px rgba(60, 64, 67, 0.15);\n",
              "      fill: #174EA6;\n",
              "    }\n",
              "\n",
              "    .colab-df-buttons div {\n",
              "      margin-bottom: 4px;\n",
              "    }\n",
              "\n",
              "    [theme=dark] .colab-df-convert {\n",
              "      background-color: #3B4455;\n",
              "      fill: #D2E3FC;\n",
              "    }\n",
              "\n",
              "    [theme=dark] .colab-df-convert:hover {\n",
              "      background-color: #434B5C;\n",
              "      box-shadow: 0px 1px 3px 1px rgba(0, 0, 0, 0.15);\n",
              "      filter: drop-shadow(0px 1px 2px rgba(0, 0, 0, 0.3));\n",
              "      fill: #FFFFFF;\n",
              "    }\n",
              "  </style>\n",
              "\n",
              "    <script>\n",
              "      const buttonEl =\n",
              "        document.querySelector('#df-1ac2707a-69c7-4d7e-b172-a50176b02eb1 button.colab-df-convert');\n",
              "      buttonEl.style.display =\n",
              "        google.colab.kernel.accessAllowed ? 'block' : 'none';\n",
              "\n",
              "      async function convertToInteractive(key) {\n",
              "        const element = document.querySelector('#df-1ac2707a-69c7-4d7e-b172-a50176b02eb1');\n",
              "        const dataTable =\n",
              "          await google.colab.kernel.invokeFunction('convertToInteractive',\n",
              "                                                    [key], {});\n",
              "        if (!dataTable) return;\n",
              "\n",
              "        const docLinkHtml = 'Like what you see? Visit the ' +\n",
              "          '<a target=\"_blank\" href=https://colab.research.google.com/notebooks/data_table.ipynb>data table notebook</a>'\n",
              "          + ' to learn more about interactive tables.';\n",
              "        element.innerHTML = '';\n",
              "        dataTable['output_type'] = 'display_data';\n",
              "        await google.colab.output.renderOutput(dataTable, element);\n",
              "        const docLink = document.createElement('div');\n",
              "        docLink.innerHTML = docLinkHtml;\n",
              "        element.appendChild(docLink);\n",
              "      }\n",
              "    </script>\n",
              "  </div>\n",
              "\n",
              "\n",
              "<div id=\"df-3b92bf34-bf6e-4420-a5e0-7c92e89084ab\">\n",
              "  <button class=\"colab-df-quickchart\" onclick=\"quickchart('df-3b92bf34-bf6e-4420-a5e0-7c92e89084ab')\"\n",
              "            title=\"Suggest charts\"\n",
              "            style=\"display:none;\">\n",
              "\n",
              "<svg xmlns=\"http://www.w3.org/2000/svg\" height=\"24px\"viewBox=\"0 0 24 24\"\n",
              "     width=\"24px\">\n",
              "    <g>\n",
              "        <path d=\"M19 3H5c-1.1 0-2 .9-2 2v14c0 1.1.9 2 2 2h14c1.1 0 2-.9 2-2V5c0-1.1-.9-2-2-2zM9 17H7v-7h2v7zm4 0h-2V7h2v10zm4 0h-2v-4h2v4z\"/>\n",
              "    </g>\n",
              "</svg>\n",
              "  </button>\n",
              "\n",
              "<style>\n",
              "  .colab-df-quickchart {\n",
              "      --bg-color: #E8F0FE;\n",
              "      --fill-color: #1967D2;\n",
              "      --hover-bg-color: #E2EBFA;\n",
              "      --hover-fill-color: #174EA6;\n",
              "      --disabled-fill-color: #AAA;\n",
              "      --disabled-bg-color: #DDD;\n",
              "  }\n",
              "\n",
              "  [theme=dark] .colab-df-quickchart {\n",
              "      --bg-color: #3B4455;\n",
              "      --fill-color: #D2E3FC;\n",
              "      --hover-bg-color: #434B5C;\n",
              "      --hover-fill-color: #FFFFFF;\n",
              "      --disabled-bg-color: #3B4455;\n",
              "      --disabled-fill-color: #666;\n",
              "  }\n",
              "\n",
              "  .colab-df-quickchart {\n",
              "    background-color: var(--bg-color);\n",
              "    border: none;\n",
              "    border-radius: 50%;\n",
              "    cursor: pointer;\n",
              "    display: none;\n",
              "    fill: var(--fill-color);\n",
              "    height: 32px;\n",
              "    padding: 0;\n",
              "    width: 32px;\n",
              "  }\n",
              "\n",
              "  .colab-df-quickchart:hover {\n",
              "    background-color: var(--hover-bg-color);\n",
              "    box-shadow: 0 1px 2px rgba(60, 64, 67, 0.3), 0 1px 3px 1px rgba(60, 64, 67, 0.15);\n",
              "    fill: var(--button-hover-fill-color);\n",
              "  }\n",
              "\n",
              "  .colab-df-quickchart-complete:disabled,\n",
              "  .colab-df-quickchart-complete:disabled:hover {\n",
              "    background-color: var(--disabled-bg-color);\n",
              "    fill: var(--disabled-fill-color);\n",
              "    box-shadow: none;\n",
              "  }\n",
              "\n",
              "  .colab-df-spinner {\n",
              "    border: 2px solid var(--fill-color);\n",
              "    border-color: transparent;\n",
              "    border-bottom-color: var(--fill-color);\n",
              "    animation:\n",
              "      spin 1s steps(1) infinite;\n",
              "  }\n",
              "\n",
              "  @keyframes spin {\n",
              "    0% {\n",
              "      border-color: transparent;\n",
              "      border-bottom-color: var(--fill-color);\n",
              "      border-left-color: var(--fill-color);\n",
              "    }\n",
              "    20% {\n",
              "      border-color: transparent;\n",
              "      border-left-color: var(--fill-color);\n",
              "      border-top-color: var(--fill-color);\n",
              "    }\n",
              "    30% {\n",
              "      border-color: transparent;\n",
              "      border-left-color: var(--fill-color);\n",
              "      border-top-color: var(--fill-color);\n",
              "      border-right-color: var(--fill-color);\n",
              "    }\n",
              "    40% {\n",
              "      border-color: transparent;\n",
              "      border-right-color: var(--fill-color);\n",
              "      border-top-color: var(--fill-color);\n",
              "    }\n",
              "    60% {\n",
              "      border-color: transparent;\n",
              "      border-right-color: var(--fill-color);\n",
              "    }\n",
              "    80% {\n",
              "      border-color: transparent;\n",
              "      border-right-color: var(--fill-color);\n",
              "      border-bottom-color: var(--fill-color);\n",
              "    }\n",
              "    90% {\n",
              "      border-color: transparent;\n",
              "      border-bottom-color: var(--fill-color);\n",
              "    }\n",
              "  }\n",
              "</style>\n",
              "\n",
              "  <script>\n",
              "    async function quickchart(key) {\n",
              "      const quickchartButtonEl =\n",
              "        document.querySelector('#' + key + ' button');\n",
              "      quickchartButtonEl.disabled = true;  // To prevent multiple clicks.\n",
              "      quickchartButtonEl.classList.add('colab-df-spinner');\n",
              "      try {\n",
              "        const charts = await google.colab.kernel.invokeFunction(\n",
              "            'suggestCharts', [key], {});\n",
              "      } catch (error) {\n",
              "        console.error('Error during call to suggestCharts:', error);\n",
              "      }\n",
              "      quickchartButtonEl.classList.remove('colab-df-spinner');\n",
              "      quickchartButtonEl.classList.add('colab-df-quickchart-complete');\n",
              "    }\n",
              "    (() => {\n",
              "      let quickchartButtonEl =\n",
              "        document.querySelector('#df-3b92bf34-bf6e-4420-a5e0-7c92e89084ab button');\n",
              "      quickchartButtonEl.style.display =\n",
              "        google.colab.kernel.accessAllowed ? 'block' : 'none';\n",
              "    })();\n",
              "  </script>\n",
              "</div>\n",
              "\n",
              "    </div>\n",
              "  </div>\n"
            ],
            "application/vnd.google.colaboratory.intrinsic+json": {
              "type": "dataframe"
            }
          },
          "metadata": {},
          "execution_count": 85
        }
      ]
    },
    {
      "cell_type": "markdown",
      "source": [
        "##Division of the Dataset"
      ],
      "metadata": {
        "id": "2jOKbTuJ0aP5"
      }
    },
    {
      "cell_type": "markdown",
      "source": [
        "Splitting the data into training, validation, and testing sets ensures that the model learns patterns from the training data, while the validation set is used for fine-tuning, preventing overfitting. The test set evaluates the final performance of the model on new data, simulating its real-world application. This separation is crucial to ensure generalizability and avoid biased results."
      ],
      "metadata": {
        "id": "Mm4m6jJtiSut"
      }
    },
    {
      "cell_type": "code",
      "source": [
        "# Importing the package needed for split\n",
        "from sklearn.model_selection import train_test_split\n",
        "\n",
        "# Dividing the dataset into features and targets\n",
        "X = df_normalized.drop('Class', axis=1)  # features\n",
        "y = df_normalized['Class']  # target\n",
        "\n",
        "# Splitting into training set (70%) and validation/test set (30%)\n",
        "X_train, X_temp, y_train, y_temp = train_test_split(X, y, test_size=0.3, random_state=42)\n",
        "\n",
        "# Splitting the temporary set (validation/test) into validation (15%) and test (15%)\n",
        "X_val, X_test, y_val, y_test = train_test_split(X_temp, y_temp, test_size=0.5, random_state=42)\n",
        "\n",
        "# Checking the sizes of the divisions\n",
        "print(f\"Training set size: {X_train.shape}\")\n",
        "print(f\"Validation set size: {X_val.shape}\")\n",
        "print(f\"Testing set size: {X_test.shape}\")\n"
      ],
      "metadata": {
        "colab": {
          "base_uri": "https://localhost:8080/"
        },
        "id": "nM5krlh53_n-",
        "outputId": "f065a77b-fad6-4edb-c7c4-37bfabe95906"
      },
      "execution_count": 104,
      "outputs": [
        {
          "output_type": "stream",
          "name": "stdout",
          "text": [
            "Training set size: (199364, 30)\n",
            "Validation set size: (42721, 30)\n",
            "Testing set size: (42722, 30)\n"
          ]
        }
      ]
    },
    {
      "cell_type": "markdown",
      "source": [
        "##Data balancing"
      ],
      "metadata": {
        "id": "4owbnWteissh"
      }
    },
    {
      "cell_type": "markdown",
      "source": [
        "To deal with imbalanced data problems, the **Undersampling** and **Oversampling** techniques will be used. Both help improve model performance by avoiding bias in favor of the dominant class.\n",
        "\n",
        "**Undersampling** reduces the majority class by removing examples to balance the proportions, while **Oversampling** increases the representation of the minority class by creating new examples or replicating existing data.\n"
      ],
      "metadata": {
        "id": "U5lB1Ztli3ML"
      }
    },
    {
      "cell_type": "markdown",
      "source": [
        "###Under Sampling"
      ],
      "metadata": {
        "id": "36ca-end-Y1I"
      }
    },
    {
      "cell_type": "code",
      "source": [
        "# Importing the required package\n",
        "from imblearn.under_sampling import RandomUnderSampler\n",
        "# Applying the under-sampling technique\n",
        "rus = RandomUnderSampler()\n",
        "X_rus, y_rus = rus.fit_resample(X_train, y_train)\n",
        "# Checking class balance\n",
        "print(pd.Series(y_rus).value_counts())"
      ],
      "metadata": {
        "colab": {
          "base_uri": "https://localhost:8080/"
        },
        "id": "OyvLrXq44Z8H",
        "outputId": "6a079440-5875-41b6-91c2-9d2c63971850"
      },
      "execution_count": 105,
      "outputs": [
        {
          "output_type": "stream",
          "name": "stdout",
          "text": [
            "Class\n",
            "0    356\n",
            "1    356\n",
            "Name: count, dtype: int64\n"
          ]
        }
      ]
    },
    {
      "cell_type": "markdown",
      "source": [
        "###Over Sampling"
      ],
      "metadata": {
        "id": "LG8X3iYmx4KN"
      }
    },
    {
      "cell_type": "code",
      "source": [
        "# Importing the required package\n",
        "from imblearn.over_sampling import SMOTE\n",
        "# Applying SMOTE to balance the minority class in the training set\n",
        "smote = SMOTE(sampling_strategy='auto', random_state=42)\n",
        "X_ros, y_ros = smote.fit_resample(X_train, y_train)\n",
        "\n",
        "# Checking class balance\n",
        "print(pd.Series(y_ros).value_counts())"
      ],
      "metadata": {
        "colab": {
          "base_uri": "https://localhost:8080/"
        },
        "id": "aFrHL3ZuBf63",
        "outputId": "684a6046-5470-4936-886f-b8f715746fab"
      },
      "execution_count": 106,
      "outputs": [
        {
          "output_type": "stream",
          "name": "stdout",
          "text": [
            "Class\n",
            "0    199008\n",
            "1    199008\n",
            "Name: count, dtype: int64\n"
          ]
        }
      ]
    },
    {
      "cell_type": "markdown",
      "source": [
        "#**Modeling**"
      ],
      "metadata": {
        "id": "VYDXUJhnpKIA"
      }
    },
    {
      "cell_type": "markdown",
      "source": [
        "Two models will be built, **Logistic Regression** and **Decision Tree**, each of which will use data from the balancing performed by **Undersampling** and **Oversampling**, totaling four models.\n",
        "\n",
        "After each model has been validated individually, the results obtained will be analyzed, focusing on the F1-Score and AUC-ROC curve metrics. After this, the models will be aggregated in order to obtain a model with the best metrics."
      ],
      "metadata": {
        "id": "lPqvHiHOj1ix"
      }
    },
    {
      "cell_type": "markdown",
      "source": [
        "##Models Construction"
      ],
      "metadata": {
        "id": "DAHWTBKVrfJc"
      }
    },
    {
      "cell_type": "markdown",
      "source": [
        "###Logistic Regression with Under Sampling"
      ],
      "metadata": {
        "id": "CLEXGwmayHqE"
      }
    },
    {
      "cell_type": "markdown",
      "source": [
        "Logistic regression is a supervised learning model used to predict the probability of a binary event (such as success/failure) based on independent variables. It uses the sigmoid function to convert the results into values ​​between 0 and 1, representing probabilities."
      ],
      "metadata": {
        "id": "qQujP5c7O_Bi"
      }
    },
    {
      "cell_type": "code",
      "source": [
        "# Importing the required packages\n",
        "from sklearn.linear_model import LogisticRegression\n",
        "from sklearn.metrics import confusion_matrix\n",
        "from sklearn.metrics import classification_report\n",
        "from sklearn.metrics import roc_auc_score, accuracy_score, precision_score, recall_score, f1_score\n",
        "\n",
        "\n",
        "# Building the logistic regression model with data balanced by Undersampling\n",
        "model_logreg_us = LogisticRegression()\n",
        "model_logreg_us.fit(X_rus, y_rus)\n",
        "# Making predictions with validation data\n",
        "y_pred = model_logreg_us.predict(X_val)\n",
        "y_proba = model_logreg_us.predict_proba(X_val)\n",
        "\n",
        "# Confusion matrix\n",
        "fig, ax = plt.subplots()\n",
        "sns.heatmap(confusion_matrix(y_val, y_pred), annot=True, ax=ax)\n",
        "ax.set_title(\"Confusion Matrix\")\n",
        "ax.set_ylabel(\"True\")\n",
        "ax.set_xlabel(\"Predicted\")\n",
        "plt.show()\n",
        "\n",
        "# Showing the classification report\n",
        "print(\"Classification Report:\\n\", classification_report(y_val, y_pred, digits=4))\n",
        "# Showing the area under the curve\n",
        "print(\"AUC: {:.4f}\\n\".format(roc_auc_score(y_val, y_proba[:,1])))\n",
        "\n",
        "# Creating the Metrics Dictionary\n",
        "metrics_dict = {}\n",
        "metrics_dict[\"logreg_us\"] = [precision_score(y_val, y_pred, pos_label=1), recall_score(y_val, y_pred), f1_score(y_val, y_pred), roc_auc_score(y_val, y_proba[:,1])]\n"
      ],
      "metadata": {
        "colab": {
          "base_uri": "https://localhost:8080/",
          "height": 676
        },
        "id": "2rJay1DX_t1C",
        "outputId": "51604416-205a-46e8-b1a0-d306e2b1dce0"
      },
      "execution_count": 107,
      "outputs": [
        {
          "output_type": "display_data",
          "data": {
            "text/plain": [
              "<Figure size 640x480 with 2 Axes>"
            ],
            "image/png": "[encoded data removed]"
          },
          "metadata": {}
        },
        {
          "output_type": "stream",
          "name": "stdout",
          "text": [
            "Classification Report:\n",
            "               precision    recall  f1-score   support\n",
            "\n",
            "           0     0.9999    0.9724    0.9859     42644\n",
            "           1     0.0568    0.9221    0.1071        77\n",
            "\n",
            "    accuracy                         0.9723     42721\n",
            "   macro avg     0.5284    0.9472    0.5465     42721\n",
            "weighted avg     0.9982    0.9723    0.9843     42721\n",
            "\n",
            "AUC: 0.9859\n",
            "\n"
          ]
        }
      ]
    },
    {
      "cell_type": "markdown",
      "source": [
        "###Logistic Regression with Over Sampling"
      ],
      "metadata": {
        "id": "tDzIALI7yN3W"
      }
    },
    {
      "cell_type": "code",
      "source": [
        "# Building the logistic regression model with data balanced by Oversampling\n",
        "model_logreg_os = LogisticRegression()\n",
        "model_logreg_os.fit(X_ros, y_ros)\n",
        "# Making predictions with validation data\n",
        "y_pred = model_logreg_os.predict(X_val)\n",
        "y_proba = model_logreg_os.predict_proba(X_val)\n",
        "\n",
        "# Confusion matrix\n",
        "fig, ax = plt.subplots()\n",
        "sns.heatmap(confusion_matrix(y_val, y_pred), annot=True, ax=ax)\n",
        "ax.set_title(\"Confusion Matrix\")\n",
        "ax.set_ylabel(\"True\")\n",
        "ax.set_xlabel(\"Predicted\")\n",
        "plt.show()\n",
        "\n",
        "# Showing the classification report\n",
        "print(\"Classification Report:\\n\", classification_report(y_val,y_pred, digits=4))\n",
        "# Showing the area under the curve\n",
        "print(\"AUC: {:.4f}\\n\".format(roc_auc_score(y_val, y_proba[:,1])))\n",
        "\n",
        "metrics_dict[\"logreg_os\"] = [precision_score(y_val, y_pred, pos_label=1), recall_score(y_val, y_pred), f1_score(y_val, y_pred), roc_auc_score(y_val, y_proba[:,1])]"
      ],
      "metadata": {
        "colab": {
          "base_uri": "https://localhost:8080/",
          "height": 676
        },
        "id": "qu17EbP1dX9s",
        "outputId": "aa2fc932-9f45-4897-a459-de7939d00b43"
      },
      "execution_count": 108,
      "outputs": [
        {
          "output_type": "display_data",
          "data": {
            "text/plain": [
              "<Figure size 640x480 with 2 Axes>"
            ],
            "image/png": "[encoded data removed]"
          },
          "metadata": {}
        },
        {
          "output_type": "stream",
          "name": "stdout",
          "text": [
            "Classification Report:\n",
            "               precision    recall  f1-score   support\n",
            "\n",
            "           0     0.9998    0.9736    0.9865     42644\n",
            "           1     0.0585    0.9091    0.1100        77\n",
            "\n",
            "    accuracy                         0.9735     42721\n",
            "   macro avg     0.5292    0.9413    0.5483     42721\n",
            "weighted avg     0.9981    0.9735    0.9850     42721\n",
            "\n",
            "AUC: 0.9795\n",
            "\n"
          ]
        }
      ]
    },
    {
      "cell_type": "markdown",
      "source": [
        "###Decision Tree with Under Sampling"
      ],
      "metadata": {
        "id": "IzwKT-U_yQEd"
      }
    },
    {
      "cell_type": "markdown",
      "source": [
        "A **decision tree** is a supervised learning model used for **classification** and regression that divides data into subsets based on decision rules. Each node represents a question about a variable, and the branches correspond to the possible answers."
      ],
      "metadata": {
        "id": "fMBhzPQuPew3"
      }
    },
    {
      "cell_type": "code",
      "source": [
        "# Importing the required package\n",
        "from sklearn.tree import DecisionTreeClassifier\n",
        "\n",
        "# Instantiating some hyperparameters, after trial and error with validation data\n",
        "model_dectree_us = DecisionTreeClassifier(max_depth=5, criterion=\"entropy\")\n",
        "\n",
        "# Fitting the model with data balanced by Undersampling\n",
        "model_dectree_us.fit(X_rus, y_rus)\n",
        "\n",
        "# Making predictions with validation data\n",
        "y_pred = model_dectree_us.predict(X_val)\n",
        "y_proba = model_dectree_us.predict_proba(X_val)\n",
        "\n",
        "# Confusion Matrix\n",
        "fig, ax = plt.subplots()\n",
        "sns.heatmap(confusion_matrix(y_val, y_pred), annot=True, ax=ax)\n",
        "ax.set_title(\"Confusion Matrix\")\n",
        "ax.set_ylabel(\"True\")\n",
        "ax.set_xlabel(\"Predicted\")\n",
        "plt.show()\n",
        "\n",
        "# Showing the classification report\n",
        "print(\"Classification Report:\\n\", classification_report(y_val, y_pred, digits=4))\n",
        "# Showing the area under the curve\n",
        "print(\"AUC: {:.4f}\\n\".format(roc_auc_score(y_val, y_proba[:,1])))\n",
        "\n",
        "metrics_dict[\"dectree_us\"] = [precision_score(y_val, y_pred, pos_label=1), recall_score(y_val, y_pred), f1_score(y_val, y_pred), roc_auc_score(y_val, y_proba[:,1])]"
      ],
      "metadata": {
        "colab": {
          "base_uri": "https://localhost:8080/",
          "height": 676
        },
        "id": "Uj0jRgDNh91j",
        "outputId": "a1cfe8df-355f-4eb7-db8f-cab01332d53c"
      },
      "execution_count": 109,
      "outputs": [
        {
          "output_type": "display_data",
          "data": {
            "text/plain": [
              "<Figure size 640x480 with 2 Axes>"
            ],
            "image/png": "[encoded data removed]"
          },
          "metadata": {}
        },
        {
          "output_type": "stream",
          "name": "stdout",
          "text": [
            "Classification Report:\n",
            "               precision    recall  f1-score   support\n",
            "\n",
            "           0     0.9998    0.9621    0.9806     42644\n",
            "           1     0.0404    0.8831    0.0772        77\n",
            "\n",
            "    accuracy                         0.9619     42721\n",
            "   macro avg     0.5201    0.9226    0.5289     42721\n",
            "weighted avg     0.9981    0.9619    0.9789     42721\n",
            "\n",
            "AUC: 0.9489\n",
            "\n"
          ]
        }
      ]
    },
    {
      "cell_type": "markdown",
      "source": [
        "###Decision Tree with Over Sampling"
      ],
      "metadata": {
        "id": "oapFmQrJnDNH"
      }
    },
    {
      "cell_type": "code",
      "source": [
        "# Instantiating some hyperparameters, after trial and error with validation data\n",
        "model_dectree_os = DecisionTreeClassifier(max_depth=5, criterion=\"entropy\")\n",
        "\n",
        "# Fitting the model with data balanced by Oversampling\n",
        "model_dectree_os.fit(X_ros, y_ros)\n",
        "\n",
        "# Making predictions with validation data\n",
        "y_pred = model_dectree_os.predict(X_val)\n",
        "y_proba = model_dectree_os.predict_proba(X_val)\n",
        "\n",
        "# Confusion Matrix\n",
        "fig, ax = plt.subplots()\n",
        "sns.heatmap(confusion_matrix(y_val, y_pred), annot=True, ax=ax)\n",
        "ax.set_title(\"Confusion Matrix\")\n",
        "ax.set_ylabel(\"True\")\n",
        "ax.set_xlabel(\"Predicted\")\n",
        "plt.show()\n",
        "\n",
        "# Showing the classification report\n",
        "print(\"Classification Report:\\n\", classification_report(y_val, y_pred, digits=4))\n",
        "# Showing the area under the curve\n",
        "print(\"AUC: {:.4f}\\n\".format(roc_auc_score(y_val, y_proba[:,1])))\n",
        "metrics_dict[\"dectree_os\"] = [precision_score(y_val, y_pred, pos_label=1), recall_score(y_val, y_pred), f1_score(y_val, y_pred), roc_auc_score(y_val, y_proba[:,1])]\n"
      ],
      "metadata": {
        "colab": {
          "base_uri": "https://localhost:8080/",
          "height": 676
        },
        "id": "4pnbHjsIhPgi",
        "outputId": "5c739263-82cb-4953-9f4e-e7a57d113f9d"
      },
      "execution_count": 110,
      "outputs": [
        {
          "output_type": "display_data",
          "data": {
            "text/plain": [
              "<Figure size 640x480 with 2 Axes>"
            ],
            "image/png": "[encoded data removed]"
          },
          "metadata": {}
        },
        {
          "output_type": "stream",
          "name": "stdout",
          "text": [
            "Classification Report:\n",
            "               precision    recall  f1-score   support\n",
            "\n",
            "           0     0.9997    0.9212    0.9589     42644\n",
            "           1     0.0196    0.8701    0.0382        77\n",
            "\n",
            "    accuracy                         0.9211     42721\n",
            "   macro avg     0.5096    0.8957    0.4986     42721\n",
            "weighted avg     0.9980    0.9211    0.9572     42721\n",
            "\n",
            "AUC: 0.9083\n",
            "\n"
          ]
        }
      ]
    },
    {
      "cell_type": "markdown",
      "source": [
        "##Model Performance Evaluation"
      ],
      "metadata": {
        "id": "ID7rTknCrzIN"
      }
    },
    {
      "cell_type": "markdown",
      "source": [
        "The metrics that will be used to evaluate the model are **F1-Score** and **ROC-AUC**.\n",
        "\n",
        "---\n",
        "\n",
        "***F1-Score*** because it encompasses two important metrics: **Precision** and **Recall**.\n",
        "\n",
        "**Precision** is the rate of positives correctly detected among all those detected as positive, the higher the better. And in our context, **the higher it means that there were fewer wrong detections** (genuine purchases detected as fraud).\n",
        "\n",
        "**Recall** is the rate of positives correctly detected among all that are actually positive, the higher the better. And in our context, **the higher it means that there were fewer frauds that were not detected**\n",
        "\n",
        "---\n",
        "***ROC-AUC*** evaluates the ability of a classification model to distinguish between classes, regardless of a specific threshold. It measures the **area under the ROC curve**, which compares the rate of true positives (sensitivity) against false positives. The higher the better. It is crucial in imbalanced problems, as it provides an **overview of the model's performance**.\n",
        "\n"
      ],
      "metadata": {
        "id": "BNv5PXrFQMBQ"
      }
    },
    {
      "cell_type": "code",
      "source": [
        "# Consolidating the metrics from the four models into a dataframe and displaying:\n",
        "metrics_df = pd.DataFrame(metrics_dict, index=['Precision', 'Recall', 'F1-Score', 'ROC-AUC'])\n",
        "metrics_df"
      ],
      "metadata": {
        "colab": {
          "base_uri": "https://localhost:8080/",
          "height": 173
        },
        "id": "TzqCgPZvk3CN",
        "outputId": "accd72d2-4a11-4db3-b28a-1f54969bf4d1"
      },
      "execution_count": 111,
      "outputs": [
        {
          "output_type": "execute_result",
          "data": {
            "text/plain": [
              "           logreg_us  logreg_os  dectree_us  dectree_os\n",
              "Precision   0.056845   0.058528    0.040356    0.019551\n",
              "Recall      0.922078   0.909091    0.883117    0.870130\n",
              "F1-Score    0.107089   0.109976    0.077185    0.038242\n",
              "ROC-AUC     0.985862   0.979513    0.948871    0.908332"
            ],
            "text/html": [
              "\n",
              "  <div id=\"df-745d8bb5-ad43-4cad-9f7b-91410d2cdd48\" class=\"colab-df-container\">\n",
              "    <div>\n",
              "<style scoped>\n",
              "    .dataframe tbody tr th:only-of-type {\n",
              "        vertical-align: middle;\n",
              "    }\n",
              "\n",
              "    .dataframe tbody tr th {\n",
              "        vertical-align: top;\n",
              "    }\n",
              "\n",
              "    .dataframe thead th {\n",
              "        text-align: right;\n",
              "    }\n",
              "</style>\n",
              "<table border=\"1\" class=\"dataframe\">\n",
              "  <thead>\n",
              "    <tr style=\"text-align: right;\">\n",
              "      <th></th>\n",
              "      <th>logreg_us</th>\n",
              "      <th>logreg_os</th>\n",
              "      <th>dectree_us</th>\n",
              "      <th>dectree_os</th>\n",
              "    </tr>\n",
              "  </thead>\n",
              "  <tbody>\n",
              "    <tr>\n",
              "      <th>Precision</th>\n",
              "      <td>0.056845</td>\n",
              "      <td>0.058528</td>\n",
              "      <td>0.040356</td>\n",
              "      <td>0.019551</td>\n",
              "    </tr>\n",
              "    <tr>\n",
              "      <th>Recall</th>\n",
              "      <td>0.922078</td>\n",
              "      <td>0.909091</td>\n",
              "      <td>0.883117</td>\n",
              "      <td>0.870130</td>\n",
              "    </tr>\n",
              "    <tr>\n",
              "      <th>F1-Score</th>\n",
              "      <td>0.107089</td>\n",
              "      <td>0.109976</td>\n",
              "      <td>0.077185</td>\n",
              "      <td>0.038242</td>\n",
              "    </tr>\n",
              "    <tr>\n",
              "      <th>ROC-AUC</th>\n",
              "      <td>0.985862</td>\n",
              "      <td>0.979513</td>\n",
              "      <td>0.948871</td>\n",
              "      <td>0.908332</td>\n",
              "    </tr>\n",
              "  </tbody>\n",
              "</table>\n",
              "</div>\n",
              "    <div class=\"colab-df-buttons\">\n",
              "\n",
              "  <div class=\"colab-df-container\">\n",
              "    <button class=\"colab-df-convert\" onclick=\"convertToInteractive('df-745d8bb5-ad43-4cad-9f7b-91410d2cdd48')\"\n",
              "            title=\"Convert this dataframe to an interactive table.\"\n",
              "            style=\"display:none;\">\n",
              "\n",
              "  <svg xmlns=\"http://www.w3.org/2000/svg\" height=\"24px\" viewBox=\"0 -960 960 960\">\n",
              "    <path d=\"M120-120v-720h720v720H120Zm60-500h600v-160H180v160Zm220 220h160v-160H400v160Zm0 220h160v-160H400v160ZM180-400h160v-160H180v160Zm440 0h160v-160H620v160ZM180-180h160v-160H180v160Zm440 0h160v-160H620v160Z\"/>\n",
              "  </svg>\n",
              "    </button>\n",
              "\n",
              "  <style>\n",
              "    .colab-df-container {\n",
              "      display:flex;\n",
              "      gap: 12px;\n",
              "    }\n",
              "\n",
              "    .colab-df-convert {\n",
              "      background-color: #E8F0FE;\n",
              "      border: none;\n",
              "      border-radius: 50%;\n",
              "      cursor: pointer;\n",
              "      display: none;\n",
              "      fill: #1967D2;\n",
              "      height: 32px;\n",
              "      padding: 0 0 0 0;\n",
              "      width: 32px;\n",
              "    }\n",
              "\n",
              "    .colab-df-convert:hover {\n",
              "      background-color: #E2EBFA;\n",
              "      box-shadow: 0px 1px 2px rgba(60, 64, 67, 0.3), 0px 1px 3px 1px rgba(60, 64, 67, 0.15);\n",
              "      fill: #174EA6;\n",
              "    }\n",
              "\n",
              "    .colab-df-buttons div {\n",
              "      margin-bottom: 4px;\n",
              "    }\n",
              "\n",
              "    [theme=dark] .colab-df-convert {\n",
              "      background-color: #3B4455;\n",
              "      fill: #D2E3FC;\n",
              "    }\n",
              "\n",
              "    [theme=dark] .colab-df-convert:hover {\n",
              "      background-color: #434B5C;\n",
              "      box-shadow: 0px 1px 3px 1px rgba(0, 0, 0, 0.15);\n",
              "      filter: drop-shadow(0px 1px 2px rgba(0, 0, 0, 0.3));\n",
              "      fill: #FFFFFF;\n",
              "    }\n",
              "  </style>\n",
              "\n",
              "    <script>\n",
              "      const buttonEl =\n",
              "        document.querySelector('#df-745d8bb5-ad43-4cad-9f7b-91410d2cdd48 button.colab-df-convert');\n",
              "      buttonEl.style.display =\n",
              "        google.colab.kernel.accessAllowed ? 'block' : 'none';\n",
              "\n",
              "      async function convertToInteractive(key) {\n",
              "        const element = document.querySelector('#df-745d8bb5-ad43-4cad-9f7b-91410d2cdd48');\n",
              "        const dataTable =\n",
              "          await google.colab.kernel.invokeFunction('convertToInteractive',\n",
              "                                                    [key], {});\n",
              "        if (!dataTable) return;\n",
              "\n",
              "        const docLinkHtml = 'Like what you see? Visit the ' +\n",
              "          '<a target=\"_blank\" href=https://colab.research.google.com/notebooks/data_table.ipynb>data table notebook</a>'\n",
              "          + ' to learn more about interactive tables.';\n",
              "        element.innerHTML = '';\n",
              "        dataTable['output_type'] = 'display_data';\n",
              "        await google.colab.output.renderOutput(dataTable, element);\n",
              "        const docLink = document.createElement('div');\n",
              "        docLink.innerHTML = docLinkHtml;\n",
              "        element.appendChild(docLink);\n",
              "      }\n",
              "    </script>\n",
              "  </div>\n",
              "\n",
              "\n",
              "<div id=\"df-12efdf43-a36d-440a-9f2d-5da224aa17fc\">\n",
              "  <button class=\"colab-df-quickchart\" onclick=\"quickchart('df-12efdf43-a36d-440a-9f2d-5da224aa17fc')\"\n",
              "            title=\"Suggest charts\"\n",
              "            style=\"display:none;\">\n",
              "\n",
              "<svg xmlns=\"http://www.w3.org/2000/svg\" height=\"24px\"viewBox=\"0 0 24 24\"\n",
              "     width=\"24px\">\n",
              "    <g>\n",
              "        <path d=\"M19 3H5c-1.1 0-2 .9-2 2v14c0 1.1.9 2 2 2h14c1.1 0 2-.9 2-2V5c0-1.1-.9-2-2-2zM9 17H7v-7h2v7zm4 0h-2V7h2v10zm4 0h-2v-4h2v4z\"/>\n",
              "    </g>\n",
              "</svg>\n",
              "  </button>\n",
              "\n",
              "<style>\n",
              "  .colab-df-quickchart {\n",
              "      --bg-color: #E8F0FE;\n",
              "      --fill-color: #1967D2;\n",
              "      --hover-bg-color: #E2EBFA;\n",
              "      --hover-fill-color: #174EA6;\n",
              "      --disabled-fill-color: #AAA;\n",
              "      --disabled-bg-color: #DDD;\n",
              "  }\n",
              "\n",
              "  [theme=dark] .colab-df-quickchart {\n",
              "      --bg-color: #3B4455;\n",
              "      --fill-color: #D2E3FC;\n",
              "      --hover-bg-color: #434B5C;\n",
              "      --hover-fill-color: #FFFFFF;\n",
              "      --disabled-bg-color: #3B4455;\n",
              "      --disabled-fill-color: #666;\n",
              "  }\n",
              "\n",
              "  .colab-df-quickchart {\n",
              "    background-color: var(--bg-color);\n",
              "    border: none;\n",
              "    border-radius: 50%;\n",
              "    cursor: pointer;\n",
              "    display: none;\n",
              "    fill: var(--fill-color);\n",
              "    height: 32px;\n",
              "    padding: 0;\n",
              "    width: 32px;\n",
              "  }\n",
              "\n",
              "  .colab-df-quickchart:hover {\n",
              "    background-color: var(--hover-bg-color);\n",
              "    box-shadow: 0 1px 2px rgba(60, 64, 67, 0.3), 0 1px 3px 1px rgba(60, 64, 67, 0.15);\n",
              "    fill: var(--button-hover-fill-color);\n",
              "  }\n",
              "\n",
              "  .colab-df-quickchart-complete:disabled,\n",
              "  .colab-df-quickchart-complete:disabled:hover {\n",
              "    background-color: var(--disabled-bg-color);\n",
              "    fill: var(--disabled-fill-color);\n",
              "    box-shadow: none;\n",
              "  }\n",
              "\n",
              "  .colab-df-spinner {\n",
              "    border: 2px solid var(--fill-color);\n",
              "    border-color: transparent;\n",
              "    border-bottom-color: var(--fill-color);\n",
              "    animation:\n",
              "      spin 1s steps(1) infinite;\n",
              "  }\n",
              "\n",
              "  @keyframes spin {\n",
              "    0% {\n",
              "      border-color: transparent;\n",
              "      border-bottom-color: var(--fill-color);\n",
              "      border-left-color: var(--fill-color);\n",
              "    }\n",
              "    20% {\n",
              "      border-color: transparent;\n",
              "      border-left-color: var(--fill-color);\n",
              "      border-top-color: var(--fill-color);\n",
              "    }\n",
              "    30% {\n",
              "      border-color: transparent;\n",
              "      border-left-color: var(--fill-color);\n",
              "      border-top-color: var(--fill-color);\n",
              "      border-right-color: var(--fill-color);\n",
              "    }\n",
              "    40% {\n",
              "      border-color: transparent;\n",
              "      border-right-color: var(--fill-color);\n",
              "      border-top-color: var(--fill-color);\n",
              "    }\n",
              "    60% {\n",
              "      border-color: transparent;\n",
              "      border-right-color: var(--fill-color);\n",
              "    }\n",
              "    80% {\n",
              "      border-color: transparent;\n",
              "      border-right-color: var(--fill-color);\n",
              "      border-bottom-color: var(--fill-color);\n",
              "    }\n",
              "    90% {\n",
              "      border-color: transparent;\n",
              "      border-bottom-color: var(--fill-color);\n",
              "    }\n",
              "  }\n",
              "</style>\n",
              "\n",
              "  <script>\n",
              "    async function quickchart(key) {\n",
              "      const quickchartButtonEl =\n",
              "        document.querySelector('#' + key + ' button');\n",
              "      quickchartButtonEl.disabled = true;  // To prevent multiple clicks.\n",
              "      quickchartButtonEl.classList.add('colab-df-spinner');\n",
              "      try {\n",
              "        const charts = await google.colab.kernel.invokeFunction(\n",
              "            'suggestCharts', [key], {});\n",
              "      } catch (error) {\n",
              "        console.error('Error during call to suggestCharts:', error);\n",
              "      }\n",
              "      quickchartButtonEl.classList.remove('colab-df-spinner');\n",
              "      quickchartButtonEl.classList.add('colab-df-quickchart-complete');\n",
              "    }\n",
              "    (() => {\n",
              "      let quickchartButtonEl =\n",
              "        document.querySelector('#df-12efdf43-a36d-440a-9f2d-5da224aa17fc button');\n",
              "      quickchartButtonEl.style.display =\n",
              "        google.colab.kernel.accessAllowed ? 'block' : 'none';\n",
              "    })();\n",
              "  </script>\n",
              "</div>\n",
              "\n",
              "  <div id=\"id_01598d8b-64b0-4e8d-ab40-341ecf03e70e\">\n",
              "    <style>\n",
              "      .colab-df-generate {\n",
              "        background-color: #E8F0FE;\n",
              "        border: none;\n",
              "        border-radius: 50%;\n",
              "        cursor: pointer;\n",
              "        display: none;\n",
              "        fill: #1967D2;\n",
              "        height: 32px;\n",
              "        padding: 0 0 0 0;\n",
              "        width: 32px;\n",
              "      }\n",
              "\n",
              "      .colab-df-generate:hover {\n",
              "        background-color: #E2EBFA;\n",
              "        box-shadow: 0px 1px 2px rgba(60, 64, 67, 0.3), 0px 1px 3px 1px rgba(60, 64, 67, 0.15);\n",
              "        fill: #174EA6;\n",
              "      }\n",
              "\n",
              "      [theme=dark] .colab-df-generate {\n",
              "        background-color: #3B4455;\n",
              "        fill: #D2E3FC;\n",
              "      }\n",
              "\n",
              "      [theme=dark] .colab-df-generate:hover {\n",
              "        background-color: #434B5C;\n",
              "        box-shadow: 0px 1px 3px 1px rgba(0, 0, 0, 0.15);\n",
              "        filter: drop-shadow(0px 1px 2px rgba(0, 0, 0, 0.3));\n",
              "        fill: #FFFFFF;\n",
              "      }\n",
              "    </style>\n",
              "    <button class=\"colab-df-generate\" onclick=\"generateWithVariable('metrics_df')\"\n",
              "            title=\"Generate code using this dataframe.\"\n",
              "            style=\"display:none;\">\n",
              "\n",
              "  <svg xmlns=\"http://www.w3.org/2000/svg\" height=\"24px\"viewBox=\"0 0 24 24\"\n",
              "       width=\"24px\">\n",
              "    <path d=\"M7,19H8.4L18.45,9,17,7.55,7,17.6ZM5,21V16.75L18.45,3.32a2,2,0,0,1,2.83,0l1.4,1.43a1.91,1.91,0,0,1,.58,1.4,1.91,1.91,0,0,1-.58,1.4L9.25,21ZM18.45,9,17,7.55Zm-12,3A5.31,5.31,0,0,0,4.9,8.1,5.31,5.31,0,0,0,1,6.5,5.31,5.31,0,0,0,4.9,4.9,5.31,5.31,0,0,0,6.5,1,5.31,5.31,0,0,0,8.1,4.9,5.31,5.31,0,0,0,12,6.5,5.46,5.46,0,0,0,6.5,12Z\"/>\n",
              "  </svg>\n",
              "    </button>\n",
              "    <script>\n",
              "      (() => {\n",
              "      const buttonEl =\n",
              "        document.querySelector('#id_01598d8b-64b0-4e8d-ab40-341ecf03e70e button.colab-df-generate');\n",
              "      buttonEl.style.display =\n",
              "        google.colab.kernel.accessAllowed ? 'block' : 'none';\n",
              "\n",
              "      buttonEl.onclick = () => {\n",
              "        google.colab.notebook.generateWithVariable('metrics_df');\n",
              "      }\n",
              "      })();\n",
              "    </script>\n",
              "  </div>\n",
              "\n",
              "    </div>\n",
              "  </div>\n"
            ],
            "application/vnd.google.colaboratory.intrinsic+json": {
              "type": "dataframe",
              "variable_name": "metrics_df",
              "summary": "{\n  \"name\": \"metrics_df\",\n  \"rows\": 4,\n  \"fields\": [\n    {\n      \"column\": \"logreg_us\",\n      \"properties\": {\n        \"dtype\": \"number\",\n        \"std\": 0.5045411354535541,\n        \"min\": 0.05684547638110488,\n        \"max\": 0.9858621118118351,\n        \"num_unique_values\": 4,\n        \"samples\": [\n          0.922077922077922,\n          0.9858621118118351,\n          0.05684547638110488\n        ],\n        \"semantic_type\": \"\",\n        \"description\": \"\"\n      }\n    },\n    {\n      \"column\": \"logreg_os\",\n      \"properties\": {\n        \"dtype\": \"number\",\n        \"std\": 0.49782463043516023,\n        \"min\": 0.05852842809364549,\n        \"max\": 0.9795128073314923,\n        \"num_unique_values\": 4,\n        \"samples\": [\n          0.9090909090909091,\n          0.9795128073314923,\n          0.05852842809364549\n        ],\n        \"semantic_type\": \"\",\n        \"description\": \"\"\n      }\n    },\n    {\n      \"column\": \"dectree_us\",\n      \"properties\": {\n        \"dtype\": \"number\",\n        \"std\": 0.4958736230081159,\n        \"min\": 0.040356083086053415,\n        \"max\": 0.9488710215776157,\n        \"num_unique_values\": 4,\n        \"samples\": [\n          0.8831168831168831,\n          0.9488710215776157,\n          0.040356083086053415\n        ],\n        \"semantic_type\": \"\",\n        \"description\": \"\"\n      }\n    },\n    {\n      \"column\": \"dectree_os\",\n      \"properties\": {\n        \"dtype\": \"number\",\n        \"std\": 0.49701787246936746,\n        \"min\": 0.01955062737087832,\n        \"max\": 0.9083322877291548,\n        \"num_unique_values\": 4,\n        \"samples\": [\n          0.8701298701298701,\n          0.9083322877291548,\n          0.01955062737087832\n        ],\n        \"semantic_type\": \"\",\n        \"description\": \"\"\n      }\n    }\n  ]\n}"
            }
          },
          "metadata": {},
          "execution_count": 111
        }
      ]
    },
    {
      "cell_type": "markdown",
      "source": [
        "The **logreg_us** model has the highest ROC-AUC metric, and the **logreg_os** model has the highest F1-Score. The **dectree_us** and **dectree_os** models all have lower metrics than the logistic regression models.\n",
        "\n",
        "Therefore, an aggregator model will be built, which will combine the two logistic regression models."
      ],
      "metadata": {
        "id": "T_RXU65PWoZq"
      }
    },
    {
      "cell_type": "markdown",
      "source": [
        "## Final Aggregator Model"
      ],
      "metadata": {
        "id": "He2YfQdgkrbd"
      }
    },
    {
      "cell_type": "markdown",
      "source": [
        "This model combines the two logistic regression models used above, each with data balanced by a different technique.\n",
        "\n",
        "The prediction results of each model will be compared, **if they are equal, it will be that result itself**. **If they are different, the result of the model with the highest probability will be defined as the result**, as in the examples below:\n",
        "\n",
        "* For a given input, the **logreg_us** model defined that this input belongs to **Class=0** and the **logreg_os** model defined that this input also belongs to **Class=0**. Therefore, the aggregating model will define that input as **Class=0**.\n",
        "\n",
        "* For another input, the **logreg_us** model defined that this input belongs to **Class=0** with a **53%** probability and the **logreg_os** model defined that this input belongs to **Class=1** with a **55%** probability. Therefore, **Class=1** will be defined for this input.\n",
        "\n"
      ],
      "metadata": {
        "id": "c2Mvi7h2XW5X"
      }
    },
    {
      "cell_type": "code",
      "source": [
        "# Initializing the prediction and probability lists\n",
        "y_pred_logreg_us = model_logreg_us.predict(X_val)\n",
        "y_proba_logreg_us = model_logreg_us.predict_proba(X_val)\n",
        "y_pred_logreg_os = model_logreg_os.predict(X_val)\n",
        "y_proba_logreg_os = model_logreg_os.predict_proba(X_val)\n",
        "\n",
        "y_pred = []\n",
        "y_proba = np.mean([y_proba_logreg_us, y_proba_logreg_os], axis=0)\n",
        "\n",
        "\n",
        "# Iterating over the predictions to form the y_pred of the final model\n",
        "for i in range(len(y_pred_logreg_us)):\n",
        "\n",
        "    # If both models have the same prediction\n",
        "    if y_pred_logreg_us[i] == y_pred_logreg_os[i] :\n",
        "        y_pred.append(y_pred_logreg_us[i])\n",
        "    # Otherwise, calculate according to the cumulative probability\n",
        "    else:\n",
        "         # Choose the class with the highest cumulative probability\n",
        "        y_pred.append(np.argmax(y_proba[i]))\n",
        "\n",
        "# Confusion Matrix\n",
        "fig, ax = plt.subplots()\n",
        "sns.heatmap(confusion_matrix(y_val, y_pred), annot=True, ax=ax)\n",
        "\n",
        "ax.set_title(\"Confusion Matrix\")\n",
        "ax.set_ylabel(\"True\")\n",
        "ax.set_xlabel(\"Predicted\")\n",
        "\n",
        "plt.show()\n",
        "# Showing the classification report\n",
        "print(\"Classification Report:\\n\", classification_report(y_val, y_pred, digits=4))\n",
        "# Showing the area under the curve\n",
        "print(\"AUC: {:.4f}\\n\".format(roc_auc_score(y_val, y_proba[:,1])))\n",
        "\n",
        "metrics_dict[\"Aggregator Model\"] = [precision_score(y_val, y_pred, pos_label=1), recall_score(y_val, y_pred), f1_score(y_val, y_pred), roc_auc_score(y_val, y_proba[:,1])]\n",
        "\n",
        "\n"
      ],
      "metadata": {
        "colab": {
          "base_uri": "https://localhost:8080/",
          "height": 676
        },
        "id": "TP4-7QX_ukT2",
        "outputId": "2586db2c-5e0c-4acd-fd9d-1de057286190"
      },
      "execution_count": 112,
      "outputs": [
        {
          "output_type": "display_data",
          "data": {
            "text/plain": [
              "<Figure size 640x480 with 2 Axes>"
            ],
            "image/png": "[encoded data removed]"
          },
          "metadata": {}
        },
        {
          "output_type": "stream",
          "name": "stdout",
          "text": [
            "Classification Report:\n",
            "               precision    recall  f1-score   support\n",
            "\n",
            "           0     0.9998    0.9744    0.9870     42644\n",
            "           1     0.0603    0.9091    0.1132        77\n",
            "\n",
            "    accuracy                         0.9743     42721\n",
            "   macro avg     0.5301    0.9418    0.5501     42721\n",
            "weighted avg     0.9981    0.9743    0.9854     42721\n",
            "\n",
            "AUC: 0.9833\n",
            "\n"
          ]
        }
      ]
    },
    {
      "cell_type": "code",
      "source": [
        "# Consolidating the metrics from the two logistic regression models and the final aggregating model:\n",
        "keys_to_remove =[\"dectree_os\", \"dectree_us\"]\n",
        "metrics_dict = {key: value for key, value in metrics_dict.items() if key not in keys_to_remove}\n",
        "metrics_df = pd.DataFrame(metrics_dict, index=['Precision', 'Recall', 'F1-Score', 'ROC-AUC'])\n",
        "metrics_df"
      ],
      "metadata": {
        "colab": {
          "base_uri": "https://localhost:8080/",
          "height": 173
        },
        "id": "n9dl0hMHKMFP",
        "outputId": "f11e28e8-0a1a-4e51-f2e9-b48624693a4e"
      },
      "execution_count": 113,
      "outputs": [
        {
          "output_type": "execute_result",
          "data": {
            "text/plain": [
              "           logreg_us  logreg_os  Aggregator Model\n",
              "Precision   0.056845   0.058528          0.060345\n",
              "Recall      0.922078   0.909091          0.909091\n",
              "F1-Score    0.107089   0.109976          0.113177\n",
              "ROC-AUC     0.985862   0.979513          0.983309"
            ],
            "text/html": [
              "\n",
              "  <div id=\"df-c29b1a6c-b789-4ba3-a592-3919ca42b541\" class=\"colab-df-container\">\n",
              "    <div>\n",
              "<style scoped>\n",
              "    .dataframe tbody tr th:only-of-type {\n",
              "        vertical-align: middle;\n",
              "    }\n",
              "\n",
              "    .dataframe tbody tr th {\n",
              "        vertical-align: top;\n",
              "    }\n",
              "\n",
              "    .dataframe thead th {\n",
              "        text-align: right;\n",
              "    }\n",
              "</style>\n",
              "<table border=\"1\" class=\"dataframe\">\n",
              "  <thead>\n",
              "    <tr style=\"text-align: right;\">\n",
              "      <th></th>\n",
              "      <th>logreg_us</th>\n",
              "      <th>logreg_os</th>\n",
              "      <th>Aggregator Model</th>\n",
              "    </tr>\n",
              "  </thead>\n",
              "  <tbody>\n",
              "    <tr>\n",
              "      <th>Precision</th>\n",
              "      <td>0.056845</td>\n",
              "      <td>0.058528</td>\n",
              "      <td>0.060345</td>\n",
              "    </tr>\n",
              "    <tr>\n",
              "      <th>Recall</th>\n",
              "      <td>0.922078</td>\n",
              "      <td>0.909091</td>\n",
              "      <td>0.909091</td>\n",
              "    </tr>\n",
              "    <tr>\n",
              "      <th>F1-Score</th>\n",
              "      <td>0.107089</td>\n",
              "      <td>0.109976</td>\n",
              "      <td>0.113177</td>\n",
              "    </tr>\n",
              "    <tr>\n",
              "      <th>ROC-AUC</th>\n",
              "      <td>0.985862</td>\n",
              "      <td>0.979513</td>\n",
              "      <td>0.983309</td>\n",
              "    </tr>\n",
              "  </tbody>\n",
              "</table>\n",
              "</div>\n",
              "    <div class=\"colab-df-buttons\">\n",
              "\n",
              "  <div class=\"colab-df-container\">\n",
              "    <button class=\"colab-df-convert\" onclick=\"convertToInteractive('df-c29b1a6c-b789-4ba3-a592-3919ca42b541')\"\n",
              "            title=\"Convert this dataframe to an interactive table.\"\n",
              "            style=\"display:none;\">\n",
              "\n",
              "  <svg xmlns=\"http://www.w3.org/2000/svg\" height=\"24px\" viewBox=\"0 -960 960 960\">\n",
              "    <path d=\"M120-120v-720h720v720H120Zm60-500h600v-160H180v160Zm220 220h160v-160H400v160Zm0 220h160v-160H400v160ZM180-400h160v-160H180v160Zm440 0h160v-160H620v160ZM180-180h160v-160H180v160Zm440 0h160v-160H620v160Z\"/>\n",
              "  </svg>\n",
              "    </button>\n",
              "\n",
              "  <style>\n",
              "    .colab-df-container {\n",
              "      display:flex;\n",
              "      gap: 12px;\n",
              "    }\n",
              "\n",
              "    .colab-df-convert {\n",
              "      background-color: #E8F0FE;\n",
              "      border: none;\n",
              "      border-radius: 50%;\n",
              "      cursor: pointer;\n",
              "      display: none;\n",
              "      fill: #1967D2;\n",
              "      height: 32px;\n",
              "      padding: 0 0 0 0;\n",
              "      width: 32px;\n",
              "    }\n",
              "\n",
              "    .colab-df-convert:hover {\n",
              "      background-color: #E2EBFA;\n",
              "      box-shadow: 0px 1px 2px rgba(60, 64, 67, 0.3), 0px 1px 3px 1px rgba(60, 64, 67, 0.15);\n",
              "      fill: #174EA6;\n",
              "    }\n",
              "\n",
              "    .colab-df-buttons div {\n",
              "      margin-bottom: 4px;\n",
              "    }\n",
              "\n",
              "    [theme=dark] .colab-df-convert {\n",
              "      background-color: #3B4455;\n",
              "      fill: #D2E3FC;\n",
              "    }\n",
              "\n",
              "    [theme=dark] .colab-df-convert:hover {\n",
              "      background-color: #434B5C;\n",
              "      box-shadow: 0px 1px 3px 1px rgba(0, 0, 0, 0.15);\n",
              "      filter: drop-shadow(0px 1px 2px rgba(0, 0, 0, 0.3));\n",
              "      fill: #FFFFFF;\n",
              "    }\n",
              "  </style>\n",
              "\n",
              "    <script>\n",
              "      const buttonEl =\n",
              "        document.querySelector('#df-c29b1a6c-b789-4ba3-a592-3919ca42b541 button.colab-df-convert');\n",
              "      buttonEl.style.display =\n",
              "        google.colab.kernel.accessAllowed ? 'block' : 'none';\n",
              "\n",
              "      async function convertToInteractive(key) {\n",
              "        const element = document.querySelector('#df-c29b1a6c-b789-4ba3-a592-3919ca42b541');\n",
              "        const dataTable =\n",
              "          await google.colab.kernel.invokeFunction('convertToInteractive',\n",
              "                                                    [key], {});\n",
              "        if (!dataTable) return;\n",
              "\n",
              "        const docLinkHtml = 'Like what you see? Visit the ' +\n",
              "          '<a target=\"_blank\" href=https://colab.research.google.com/notebooks/data_table.ipynb>data table notebook</a>'\n",
              "          + ' to learn more about interactive tables.';\n",
              "        element.innerHTML = '';\n",
              "        dataTable['output_type'] = 'display_data';\n",
              "        await google.colab.output.renderOutput(dataTable, element);\n",
              "        const docLink = document.createElement('div');\n",
              "        docLink.innerHTML = docLinkHtml;\n",
              "        element.appendChild(docLink);\n",
              "      }\n",
              "    </script>\n",
              "  </div>\n",
              "\n",
              "\n",
              "<div id=\"df-78e76f68-ae4b-480b-8540-affc384928cc\">\n",
              "  <button class=\"colab-df-quickchart\" onclick=\"quickchart('df-78e76f68-ae4b-480b-8540-affc384928cc')\"\n",
              "            title=\"Suggest charts\"\n",
              "            style=\"display:none;\">\n",
              "\n",
              "<svg xmlns=\"http://www.w3.org/2000/svg\" height=\"24px\"viewBox=\"0 0 24 24\"\n",
              "     width=\"24px\">\n",
              "    <g>\n",
              "        <path d=\"M19 3H5c-1.1 0-2 .9-2 2v14c0 1.1.9 2 2 2h14c1.1 0 2-.9 2-2V5c0-1.1-.9-2-2-2zM9 17H7v-7h2v7zm4 0h-2V7h2v10zm4 0h-2v-4h2v4z\"/>\n",
              "    </g>\n",
              "</svg>\n",
              "  </button>\n",
              "\n",
              "<style>\n",
              "  .colab-df-quickchart {\n",
              "      --bg-color: #E8F0FE;\n",
              "      --fill-color: #1967D2;\n",
              "      --hover-bg-color: #E2EBFA;\n",
              "      --hover-fill-color: #174EA6;\n",
              "      --disabled-fill-color: #AAA;\n",
              "      --disabled-bg-color: #DDD;\n",
              "  }\n",
              "\n",
              "  [theme=dark] .colab-df-quickchart {\n",
              "      --bg-color: #3B4455;\n",
              "      --fill-color: #D2E3FC;\n",
              "      --hover-bg-color: #434B5C;\n",
              "      --hover-fill-color: #FFFFFF;\n",
              "      --disabled-bg-color: #3B4455;\n",
              "      --disabled-fill-color: #666;\n",
              "  }\n",
              "\n",
              "  .colab-df-quickchart {\n",
              "    background-color: var(--bg-color);\n",
              "    border: none;\n",
              "    border-radius: 50%;\n",
              "    cursor: pointer;\n",
              "    display: none;\n",
              "    fill: var(--fill-color);\n",
              "    height: 32px;\n",
              "    padding: 0;\n",
              "    width: 32px;\n",
              "  }\n",
              "\n",
              "  .colab-df-quickchart:hover {\n",
              "    background-color: var(--hover-bg-color);\n",
              "    box-shadow: 0 1px 2px rgba(60, 64, 67, 0.3), 0 1px 3px 1px rgba(60, 64, 67, 0.15);\n",
              "    fill: var(--button-hover-fill-color);\n",
              "  }\n",
              "\n",
              "  .colab-df-quickchart-complete:disabled,\n",
              "  .colab-df-quickchart-complete:disabled:hover {\n",
              "    background-color: var(--disabled-bg-color);\n",
              "    fill: var(--disabled-fill-color);\n",
              "    box-shadow: none;\n",
              "  }\n",
              "\n",
              "  .colab-df-spinner {\n",
              "    border: 2px solid var(--fill-color);\n",
              "    border-color: transparent;\n",
              "    border-bottom-color: var(--fill-color);\n",
              "    animation:\n",
              "      spin 1s steps(1) infinite;\n",
              "  }\n",
              "\n",
              "  @keyframes spin {\n",
              "    0% {\n",
              "      border-color: transparent;\n",
              "      border-bottom-color: var(--fill-color);\n",
              "      border-left-color: var(--fill-color);\n",
              "    }\n",
              "    20% {\n",
              "      border-color: transparent;\n",
              "      border-left-color: var(--fill-color);\n",
              "      border-top-color: var(--fill-color);\n",
              "    }\n",
              "    30% {\n",
              "      border-color: transparent;\n",
              "      border-left-color: var(--fill-color);\n",
              "      border-top-color: var(--fill-color);\n",
              "      border-right-color: var(--fill-color);\n",
              "    }\n",
              "    40% {\n",
              "      border-color: transparent;\n",
              "      border-right-color: var(--fill-color);\n",
              "      border-top-color: var(--fill-color);\n",
              "    }\n",
              "    60% {\n",
              "      border-color: transparent;\n",
              "      border-right-color: var(--fill-color);\n",
              "    }\n",
              "    80% {\n",
              "      border-color: transparent;\n",
              "      border-right-color: var(--fill-color);\n",
              "      border-bottom-color: var(--fill-color);\n",
              "    }\n",
              "    90% {\n",
              "      border-color: transparent;\n",
              "      border-bottom-color: var(--fill-color);\n",
              "    }\n",
              "  }\n",
              "</style>\n",
              "\n",
              "  <script>\n",
              "    async function quickchart(key) {\n",
              "      const quickchartButtonEl =\n",
              "        document.querySelector('#' + key + ' button');\n",
              "      quickchartButtonEl.disabled = true;  // To prevent multiple clicks.\n",
              "      quickchartButtonEl.classList.add('colab-df-spinner');\n",
              "      try {\n",
              "        const charts = await google.colab.kernel.invokeFunction(\n",
              "            'suggestCharts', [key], {});\n",
              "      } catch (error) {\n",
              "        console.error('Error during call to suggestCharts:', error);\n",
              "      }\n",
              "      quickchartButtonEl.classList.remove('colab-df-spinner');\n",
              "      quickchartButtonEl.classList.add('colab-df-quickchart-complete');\n",
              "    }\n",
              "    (() => {\n",
              "      let quickchartButtonEl =\n",
              "        document.querySelector('#df-78e76f68-ae4b-480b-8540-affc384928cc button');\n",
              "      quickchartButtonEl.style.display =\n",
              "        google.colab.kernel.accessAllowed ? 'block' : 'none';\n",
              "    })();\n",
              "  </script>\n",
              "</div>\n",
              "\n",
              "  <div id=\"id_b6493be3-91f8-4e44-8d2c-8b903e8b6bfb\">\n",
              "    <style>\n",
              "      .colab-df-generate {\n",
              "        background-color: #E8F0FE;\n",
              "        border: none;\n",
              "        border-radius: 50%;\n",
              "        cursor: pointer;\n",
              "        display: none;\n",
              "        fill: #1967D2;\n",
              "        height: 32px;\n",
              "        padding: 0 0 0 0;\n",
              "        width: 32px;\n",
              "      }\n",
              "\n",
              "      .colab-df-generate:hover {\n",
              "        background-color: #E2EBFA;\n",
              "        box-shadow: 0px 1px 2px rgba(60, 64, 67, 0.3), 0px 1px 3px 1px rgba(60, 64, 67, 0.15);\n",
              "        fill: #174EA6;\n",
              "      }\n",
              "\n",
              "      [theme=dark] .colab-df-generate {\n",
              "        background-color: #3B4455;\n",
              "        fill: #D2E3FC;\n",
              "      }\n",
              "\n",
              "      [theme=dark] .colab-df-generate:hover {\n",
              "        background-color: #434B5C;\n",
              "        box-shadow: 0px 1px 3px 1px rgba(0, 0, 0, 0.15);\n",
              "        filter: drop-shadow(0px 1px 2px rgba(0, 0, 0, 0.3));\n",
              "        fill: #FFFFFF;\n",
              "      }\n",
              "    </style>\n",
              "    <button class=\"colab-df-generate\" onclick=\"generateWithVariable('metrics_df')\"\n",
              "            title=\"Generate code using this dataframe.\"\n",
              "            style=\"display:none;\">\n",
              "\n",
              "  <svg xmlns=\"http://www.w3.org/2000/svg\" height=\"24px\"viewBox=\"0 0 24 24\"\n",
              "       width=\"24px\">\n",
              "    <path d=\"M7,19H8.4L18.45,9,17,7.55,7,17.6ZM5,21V16.75L18.45,3.32a2,2,0,0,1,2.83,0l1.4,1.43a1.91,1.91,0,0,1,.58,1.4,1.91,1.91,0,0,1-.58,1.4L9.25,21ZM18.45,9,17,7.55Zm-12,3A5.31,5.31,0,0,0,4.9,8.1,5.31,5.31,0,0,0,1,6.5,5.31,5.31,0,0,0,4.9,4.9,5.31,5.31,0,0,0,6.5,1,5.31,5.31,0,0,0,8.1,4.9,5.31,5.31,0,0,0,12,6.5,5.46,5.46,0,0,0,6.5,12Z\"/>\n",
              "  </svg>\n",
              "    </button>\n",
              "    <script>\n",
              "      (() => {\n",
              "      const buttonEl =\n",
              "        document.querySelector('#id_b6493be3-91f8-4e44-8d2c-8b903e8b6bfb button.colab-df-generate');\n",
              "      buttonEl.style.display =\n",
              "        google.colab.kernel.accessAllowed ? 'block' : 'none';\n",
              "\n",
              "      buttonEl.onclick = () => {\n",
              "        google.colab.notebook.generateWithVariable('metrics_df');\n",
              "      }\n",
              "      })();\n",
              "    </script>\n",
              "  </div>\n",
              "\n",
              "    </div>\n",
              "  </div>\n"
            ],
            "application/vnd.google.colaboratory.intrinsic+json": {
              "type": "dataframe",
              "variable_name": "metrics_df",
              "summary": "{\n  \"name\": \"metrics_df\",\n  \"rows\": 4,\n  \"fields\": [\n    {\n      \"column\": \"logreg_us\",\n      \"properties\": {\n        \"dtype\": \"number\",\n        \"std\": 0.5045411354535541,\n        \"min\": 0.05684547638110488,\n        \"max\": 0.9858621118118351,\n        \"num_unique_values\": 4,\n        \"samples\": [\n          0.922077922077922,\n          0.9858621118118351,\n          0.05684547638110488\n        ],\n        \"semantic_type\": \"\",\n        \"description\": \"\"\n      }\n    },\n    {\n      \"column\": \"logreg_os\",\n      \"properties\": {\n        \"dtype\": \"number\",\n        \"std\": 0.49782463043516023,\n        \"min\": 0.05852842809364549,\n        \"max\": 0.9795128073314923,\n        \"num_unique_values\": 4,\n        \"samples\": [\n          0.9090909090909091,\n          0.9795128073314923,\n          0.05852842809364549\n        ],\n        \"semantic_type\": \"\",\n        \"description\": \"\"\n      }\n    },\n    {\n      \"column\": \"Aggregator Model\",\n      \"properties\": {\n        \"dtype\": \"number\",\n        \"std\": 0.4975891991539603,\n        \"min\": 0.0603448275862069,\n        \"max\": 0.9833088073168742,\n        \"num_unique_values\": 4,\n        \"samples\": [\n          0.9090909090909091,\n          0.9833088073168742,\n          0.0603448275862069\n        ],\n        \"semantic_type\": \"\",\n        \"description\": \"\"\n      }\n    }\n  ]\n}"
            }
          },
          "metadata": {},
          "execution_count": 113
        }
      ]
    },
    {
      "cell_type": "markdown",
      "source": [
        "The **F1-Score** and **ROC-AUC** metrics of the final aggregator model had their values ​​close to the highest values ​​between the two models.\n",
        "\n"
      ],
      "metadata": {
        "id": "j9H2tKsRZBwJ"
      }
    },
    {
      "cell_type": "markdown",
      "source": [
        "#**Final Results**"
      ],
      "metadata": {
        "id": "kBoM2Uacph2q"
      }
    },
    {
      "cell_type": "markdown",
      "source": [
        "## Final Test with the Test Set"
      ],
      "metadata": {
        "id": "9VDMEqSjXx6Q"
      }
    },
    {
      "cell_type": "markdown",
      "source": [
        "Testing the final model with the test dataset"
      ],
      "metadata": {
        "id": "SffmsbO3Ztu7"
      }
    },
    {
      "cell_type": "code",
      "source": [
        "# Initializing the prediction and probability lists\n",
        "y_pred_logreg_us = model_logreg_us.predict(X_test)\n",
        "y_proba_logreg_us = model_logreg_us.predict_proba(X_test)\n",
        "y_pred_logreg_os = model_logreg_os.predict(X_test)\n",
        "y_proba_logreg_os = model_logreg_os.predict_proba(X_test)\n",
        "\n",
        "y_pred = []\n",
        "y_proba = np.mean([y_proba_logreg_us, y_proba_logreg_os], axis=0)\n",
        "\n",
        "# Iterating over the predictions to form the y_pred of the final model\n",
        "for i in range(len(y_pred_logreg_us)):\n",
        "\n",
        "    # If both models have the same prediction\n",
        "    if y_pred_logreg_us[i] == y_pred_logreg_os[i] :\n",
        "        y_pred.append(y_pred_logreg_us[i])\n",
        "    # Otherwise, calculate according to the cumulative probability\n",
        "    else:\n",
        "         # Choose the class with the highest cumulative probability\n",
        "        y_pred.append(np.argmax(y_proba[i]))\n",
        "\n",
        "# Confusion Matrix\n",
        "fig, ax = plt.subplots()\n",
        "sns.heatmap(confusion_matrix(y_test, y_pred), annot=True, ax=ax)\n",
        "\n",
        "ax.set_title(\"Confusion Matrix\")\n",
        "ax.set_ylabel(\"True\")\n",
        "ax.set_xlabel(\"Predicted\")\n",
        "\n",
        "plt.show()\n",
        "# Showing the classification report\n",
        "print(\"Classification Report:\\n\", classification_report(y_test, y_pred, digits=4))\n",
        "# Showing the area under the curve\n",
        "print(\"AUC: {:.4f}\\n\".format(roc_auc_score(y_test, y_proba[:,1])))\n",
        "\n",
        "metrics_dict[\"Final Model\"] = [precision_score(y_test, y_pred, pos_label=1), recall_score(y_test, y_pred), f1_score(y_test, y_pred), roc_auc_score(y_test, y_proba[:,1])]\n"
      ],
      "metadata": {
        "colab": {
          "base_uri": "https://localhost:8080/",
          "height": 676
        },
        "id": "wVDIfnJzp2KM",
        "outputId": "f953834c-66b0-4478-b4e0-381652b9f45a"
      },
      "execution_count": 116,
      "outputs": [
        {
          "output_type": "display_data",
          "data": {
            "text/plain": [
              "<Figure size 640x480 with 2 Axes>"
            ],
            "image/png": "[encoded data removed]"
          },
          "metadata": {}
        },
        {
          "output_type": "stream",
          "name": "stdout",
          "text": [
            "Classification Report:\n",
            "               precision    recall  f1-score   support\n",
            "\n",
            "           0     0.9999    0.9749    0.9873     42663\n",
            "           1     0.0497    0.9492    0.0944        59\n",
            "\n",
            "    accuracy                         0.9749     42722\n",
            "   macro avg     0.5248    0.9620    0.5408     42722\n",
            "weighted avg     0.9986    0.9749    0.9860     42722\n",
            "\n",
            "AUC: 0.9814\n",
            "\n"
          ]
        }
      ]
    },
    {
      "cell_type": "code",
      "source": [
        "# Consolidating the final result with previous validations\n",
        "metrics_df = pd.DataFrame(metrics_dict, index=['Precision', 'Recall', 'F1-Score', 'ROC-AUC'])\n",
        "metrics_df\n"
      ],
      "metadata": {
        "colab": {
          "base_uri": "https://localhost:8080/",
          "height": 173
        },
        "id": "aH-NcJPzNKmQ",
        "outputId": "825eb595-a879-4975-e060-a833882f0ea8"
      },
      "execution_count": 115,
      "outputs": [
        {
          "output_type": "execute_result",
          "data": {
            "text/plain": [
              "           logreg_us  logreg_os  Aggregator Model  Final Model\n",
              "Precision   0.056845   0.058528          0.060345     0.049689\n",
              "Recall      0.922078   0.909091          0.909091     0.949153\n",
              "F1-Score    0.107089   0.109976          0.113177     0.094435\n",
              "ROC-AUC     0.985862   0.979513          0.983309     0.981358"
            ],
            "text/html": [
              "\n",
              "  <div id=\"df-338bc31c-3b77-4b4f-8dc9-54f475913895\" class=\"colab-df-container\">\n",
              "    <div>\n",
              "<style scoped>\n",
              "    .dataframe tbody tr th:only-of-type {\n",
              "        vertical-align: middle;\n",
              "    }\n",
              "\n",
              "    .dataframe tbody tr th {\n",
              "        vertical-align: top;\n",
              "    }\n",
              "\n",
              "    .dataframe thead th {\n",
              "        text-align: right;\n",
              "    }\n",
              "</style>\n",
              "<table border=\"1\" class=\"dataframe\">\n",
              "  <thead>\n",
              "    <tr style=\"text-align: right;\">\n",
              "      <th></th>\n",
              "      <th>logreg_us</th>\n",
              "      <th>logreg_os</th>\n",
              "      <th>Aggregator Model</th>\n",
              "      <th>Final Model</th>\n",
              "    </tr>\n",
              "  </thead>\n",
              "  <tbody>\n",
              "    <tr>\n",
              "      <th>Precision</th>\n",
              "      <td>0.056845</td>\n",
              "      <td>0.058528</td>\n",
              "      <td>0.060345</td>\n",
              "      <td>0.049689</td>\n",
              "    </tr>\n",
              "    <tr>\n",
              "      <th>Recall</th>\n",
              "      <td>0.922078</td>\n",
              "      <td>0.909091</td>\n",
              "      <td>0.909091</td>\n",
              "      <td>0.949153</td>\n",
              "    </tr>\n",
              "    <tr>\n",
              "      <th>F1-Score</th>\n",
              "      <td>0.107089</td>\n",
              "      <td>0.109976</td>\n",
              "      <td>0.113177</td>\n",
              "      <td>0.094435</td>\n",
              "    </tr>\n",
              "    <tr>\n",
              "      <th>ROC-AUC</th>\n",
              "      <td>0.985862</td>\n",
              "      <td>0.979513</td>\n",
              "      <td>0.983309</td>\n",
              "      <td>0.981358</td>\n",
              "    </tr>\n",
              "  </tbody>\n",
              "</table>\n",
              "</div>\n",
              "    <div class=\"colab-df-buttons\">\n",
              "\n",
              "  <div class=\"colab-df-container\">\n",
              "    <button class=\"colab-df-convert\" onclick=\"convertToInteractive('df-338bc31c-3b77-4b4f-8dc9-54f475913895')\"\n",
              "            title=\"Convert this dataframe to an interactive table.\"\n",
              "            style=\"display:none;\">\n",
              "\n",
              "  <svg xmlns=\"http://www.w3.org/2000/svg\" height=\"24px\" viewBox=\"0 -960 960 960\">\n",
              "    <path d=\"M120-120v-720h720v720H120Zm60-500h600v-160H180v160Zm220 220h160v-160H400v160Zm0 220h160v-160H400v160ZM180-400h160v-160H180v160Zm440 0h160v-160H620v160ZM180-180h160v-160H180v160Zm440 0h160v-160H620v160Z\"/>\n",
              "  </svg>\n",
              "    </button>\n",
              "\n",
              "  <style>\n",
              "    .colab-df-container {\n",
              "      display:flex;\n",
              "      gap: 12px;\n",
              "    }\n",
              "\n",
              "    .colab-df-convert {\n",
              "      background-color: #E8F0FE;\n",
              "      border: none;\n",
              "      border-radius: 50%;\n",
              "      cursor: pointer;\n",
              "      display: none;\n",
              "      fill: #1967D2;\n",
              "      height: 32px;\n",
              "      padding: 0 0 0 0;\n",
              "      width: 32px;\n",
              "    }\n",
              "\n",
              "    .colab-df-convert:hover {\n",
              "      background-color: #E2EBFA;\n",
              "      box-shadow: 0px 1px 2px rgba(60, 64, 67, 0.3), 0px 1px 3px 1px rgba(60, 64, 67, 0.15);\n",
              "      fill: #174EA6;\n",
              "    }\n",
              "\n",
              "    .colab-df-buttons div {\n",
              "      margin-bottom: 4px;\n",
              "    }\n",
              "\n",
              "    [theme=dark] .colab-df-convert {\n",
              "      background-color: #3B4455;\n",
              "      fill: #D2E3FC;\n",
              "    }\n",
              "\n",
              "    [theme=dark] .colab-df-convert:hover {\n",
              "      background-color: #434B5C;\n",
              "      box-shadow: 0px 1px 3px 1px rgba(0, 0, 0, 0.15);\n",
              "      filter: drop-shadow(0px 1px 2px rgba(0, 0, 0, 0.3));\n",
              "      fill: #FFFFFF;\n",
              "    }\n",
              "  </style>\n",
              "\n",
              "    <script>\n",
              "      const buttonEl =\n",
              "        document.querySelector('#df-338bc31c-3b77-4b4f-8dc9-54f475913895 button.colab-df-convert');\n",
              "      buttonEl.style.display =\n",
              "        google.colab.kernel.accessAllowed ? 'block' : 'none';\n",
              "\n",
              "      async function convertToInteractive(key) {\n",
              "        const element = document.querySelector('#df-338bc31c-3b77-4b4f-8dc9-54f475913895');\n",
              "        const dataTable =\n",
              "          await google.colab.kernel.invokeFunction('convertToInteractive',\n",
              "                                                    [key], {});\n",
              "        if (!dataTable) return;\n",
              "\n",
              "        const docLinkHtml = 'Like what you see? Visit the ' +\n",
              "          '<a target=\"_blank\" href=https://colab.research.google.com/notebooks/data_table.ipynb>data table notebook</a>'\n",
              "          + ' to learn more about interactive tables.';\n",
              "        element.innerHTML = '';\n",
              "        dataTable['output_type'] = 'display_data';\n",
              "        await google.colab.output.renderOutput(dataTable, element);\n",
              "        const docLink = document.createElement('div');\n",
              "        docLink.innerHTML = docLinkHtml;\n",
              "        element.appendChild(docLink);\n",
              "      }\n",
              "    </script>\n",
              "  </div>\n",
              "\n",
              "\n",
              "<div id=\"df-09cadc76-4b54-49a2-a97d-64fe09085a8b\">\n",
              "  <button class=\"colab-df-quickchart\" onclick=\"quickchart('df-09cadc76-4b54-49a2-a97d-64fe09085a8b')\"\n",
              "            title=\"Suggest charts\"\n",
              "            style=\"display:none;\">\n",
              "\n",
              "<svg xmlns=\"http://www.w3.org/2000/svg\" height=\"24px\"viewBox=\"0 0 24 24\"\n",
              "     width=\"24px\">\n",
              "    <g>\n",
              "        <path d=\"M19 3H5c-1.1 0-2 .9-2 2v14c0 1.1.9 2 2 2h14c1.1 0 2-.9 2-2V5c0-1.1-.9-2-2-2zM9 17H7v-7h2v7zm4 0h-2V7h2v10zm4 0h-2v-4h2v4z\"/>\n",
              "    </g>\n",
              "</svg>\n",
              "  </button>\n",
              "\n",
              "<style>\n",
              "  .colab-df-quickchart {\n",
              "      --bg-color: #E8F0FE;\n",
              "      --fill-color: #1967D2;\n",
              "      --hover-bg-color: #E2EBFA;\n",
              "      --hover-fill-color: #174EA6;\n",
              "      --disabled-fill-color: #AAA;\n",
              "      --disabled-bg-color: #DDD;\n",
              "  }\n",
              "\n",
              "  [theme=dark] .colab-df-quickchart {\n",
              "      --bg-color: #3B4455;\n",
              "      --fill-color: #D2E3FC;\n",
              "      --hover-bg-color: #434B5C;\n",
              "      --hover-fill-color: #FFFFFF;\n",
              "      --disabled-bg-color: #3B4455;\n",
              "      --disabled-fill-color: #666;\n",
              "  }\n",
              "\n",
              "  .colab-df-quickchart {\n",
              "    background-color: var(--bg-color);\n",
              "    border: none;\n",
              "    border-radius: 50%;\n",
              "    cursor: pointer;\n",
              "    display: none;\n",
              "    fill: var(--fill-color);\n",
              "    height: 32px;\n",
              "    padding: 0;\n",
              "    width: 32px;\n",
              "  }\n",
              "\n",
              "  .colab-df-quickchart:hover {\n",
              "    background-color: var(--hover-bg-color);\n",
              "    box-shadow: 0 1px 2px rgba(60, 64, 67, 0.3), 0 1px 3px 1px rgba(60, 64, 67, 0.15);\n",
              "    fill: var(--button-hover-fill-color);\n",
              "  }\n",
              "\n",
              "  .colab-df-quickchart-complete:disabled,\n",
              "  .colab-df-quickchart-complete:disabled:hover {\n",
              "    background-color: var(--disabled-bg-color);\n",
              "    fill: var(--disabled-fill-color);\n",
              "    box-shadow: none;\n",
              "  }\n",
              "\n",
              "  .colab-df-spinner {\n",
              "    border: 2px solid var(--fill-color);\n",
              "    border-color: transparent;\n",
              "    border-bottom-color: var(--fill-color);\n",
              "    animation:\n",
              "      spin 1s steps(1) infinite;\n",
              "  }\n",
              "\n",
              "  @keyframes spin {\n",
              "    0% {\n",
              "      border-color: transparent;\n",
              "      border-bottom-color: var(--fill-color);\n",
              "      border-left-color: var(--fill-color);\n",
              "    }\n",
              "    20% {\n",
              "      border-color: transparent;\n",
              "      border-left-color: var(--fill-color);\n",
              "      border-top-color: var(--fill-color);\n",
              "    }\n",
              "    30% {\n",
              "      border-color: transparent;\n",
              "      border-left-color: var(--fill-color);\n",
              "      border-top-color: var(--fill-color);\n",
              "      border-right-color: var(--fill-color);\n",
              "    }\n",
              "    40% {\n",
              "      border-color: transparent;\n",
              "      border-right-color: var(--fill-color);\n",
              "      border-top-color: var(--fill-color);\n",
              "    }\n",
              "    60% {\n",
              "      border-color: transparent;\n",
              "      border-right-color: var(--fill-color);\n",
              "    }\n",
              "    80% {\n",
              "      border-color: transparent;\n",
              "      border-right-color: var(--fill-color);\n",
              "      border-bottom-color: var(--fill-color);\n",
              "    }\n",
              "    90% {\n",
              "      border-color: transparent;\n",
              "      border-bottom-color: var(--fill-color);\n",
              "    }\n",
              "  }\n",
              "</style>\n",
              "\n",
              "  <script>\n",
              "    async function quickchart(key) {\n",
              "      const quickchartButtonEl =\n",
              "        document.querySelector('#' + key + ' button');\n",
              "      quickchartButtonEl.disabled = true;  // To prevent multiple clicks.\n",
              "      quickchartButtonEl.classList.add('colab-df-spinner');\n",
              "      try {\n",
              "        const charts = await google.colab.kernel.invokeFunction(\n",
              "            'suggestCharts', [key], {});\n",
              "      } catch (error) {\n",
              "        console.error('Error during call to suggestCharts:', error);\n",
              "      }\n",
              "      quickchartButtonEl.classList.remove('colab-df-spinner');\n",
              "      quickchartButtonEl.classList.add('colab-df-quickchart-complete');\n",
              "    }\n",
              "    (() => {\n",
              "      let quickchartButtonEl =\n",
              "        document.querySelector('#df-09cadc76-4b54-49a2-a97d-64fe09085a8b button');\n",
              "      quickchartButtonEl.style.display =\n",
              "        google.colab.kernel.accessAllowed ? 'block' : 'none';\n",
              "    })();\n",
              "  </script>\n",
              "</div>\n",
              "\n",
              "  <div id=\"id_75c913aa-739f-4cf6-a82b-c3369cca1f0a\">\n",
              "    <style>\n",
              "      .colab-df-generate {\n",
              "        background-color: #E8F0FE;\n",
              "        border: none;\n",
              "        border-radius: 50%;\n",
              "        cursor: pointer;\n",
              "        display: none;\n",
              "        fill: #1967D2;\n",
              "        height: 32px;\n",
              "        padding: 0 0 0 0;\n",
              "        width: 32px;\n",
              "      }\n",
              "\n",
              "      .colab-df-generate:hover {\n",
              "        background-color: #E2EBFA;\n",
              "        box-shadow: 0px 1px 2px rgba(60, 64, 67, 0.3), 0px 1px 3px 1px rgba(60, 64, 67, 0.15);\n",
              "        fill: #174EA6;\n",
              "      }\n",
              "\n",
              "      [theme=dark] .colab-df-generate {\n",
              "        background-color: #3B4455;\n",
              "        fill: #D2E3FC;\n",
              "      }\n",
              "\n",
              "      [theme=dark] .colab-df-generate:hover {\n",
              "        background-color: #434B5C;\n",
              "        box-shadow: 0px 1px 3px 1px rgba(0, 0, 0, 0.15);\n",
              "        filter: drop-shadow(0px 1px 2px rgba(0, 0, 0, 0.3));\n",
              "        fill: #FFFFFF;\n",
              "      }\n",
              "    </style>\n",
              "    <button class=\"colab-df-generate\" onclick=\"generateWithVariable('metrics_df')\"\n",
              "            title=\"Generate code using this dataframe.\"\n",
              "            style=\"display:none;\">\n",
              "\n",
              "  <svg xmlns=\"http://www.w3.org/2000/svg\" height=\"24px\"viewBox=\"0 0 24 24\"\n",
              "       width=\"24px\">\n",
              "    <path d=\"M7,19H8.4L18.45,9,17,7.55,7,17.6ZM5,21V16.75L18.45,3.32a2,2,0,0,1,2.83,0l1.4,1.43a1.91,1.91,0,0,1,.58,1.4,1.91,1.91,0,0,1-.58,1.4L9.25,21ZM18.45,9,17,7.55Zm-12,3A5.31,5.31,0,0,0,4.9,8.1,5.31,5.31,0,0,0,1,6.5,5.31,5.31,0,0,0,4.9,4.9,5.31,5.31,0,0,0,6.5,1,5.31,5.31,0,0,0,8.1,4.9,5.31,5.31,0,0,0,12,6.5,5.46,5.46,0,0,0,6.5,12Z\"/>\n",
              "  </svg>\n",
              "    </button>\n",
              "    <script>\n",
              "      (() => {\n",
              "      const buttonEl =\n",
              "        document.querySelector('#id_75c913aa-739f-4cf6-a82b-c3369cca1f0a button.colab-df-generate');\n",
              "      buttonEl.style.display =\n",
              "        google.colab.kernel.accessAllowed ? 'block' : 'none';\n",
              "\n",
              "      buttonEl.onclick = () => {\n",
              "        google.colab.notebook.generateWithVariable('metrics_df');\n",
              "      }\n",
              "      })();\n",
              "    </script>\n",
              "  </div>\n",
              "\n",
              "    </div>\n",
              "  </div>\n"
            ],
            "application/vnd.google.colaboratory.intrinsic+json": {
              "type": "dataframe",
              "variable_name": "metrics_df",
              "summary": "{\n  \"name\": \"metrics_df\",\n  \"rows\": 4,\n  \"fields\": [\n    {\n      \"column\": \"logreg_us\",\n      \"properties\": {\n        \"dtype\": \"number\",\n        \"std\": 0.5045411354535541,\n        \"min\": 0.05684547638110488,\n        \"max\": 0.9858621118118351,\n        \"num_unique_values\": 4,\n        \"samples\": [\n          0.922077922077922,\n          0.9858621118118351,\n          0.05684547638110488\n        ],\n        \"semantic_type\": \"\",\n        \"description\": \"\"\n      }\n    },\n    {\n      \"column\": \"logreg_os\",\n      \"properties\": {\n        \"dtype\": \"number\",\n        \"std\": 0.49782463043516023,\n        \"min\": 0.05852842809364549,\n        \"max\": 0.9795128073314923,\n        \"num_unique_values\": 4,\n        \"samples\": [\n          0.9090909090909091,\n          0.9795128073314923,\n          0.05852842809364549\n        ],\n        \"semantic_type\": \"\",\n        \"description\": \"\"\n      }\n    },\n    {\n      \"column\": \"Aggregator Model\",\n      \"properties\": {\n        \"dtype\": \"number\",\n        \"std\": 0.4975891991539603,\n        \"min\": 0.0603448275862069,\n        \"max\": 0.9833088073168742,\n        \"num_unique_values\": 4,\n        \"samples\": [\n          0.9090909090909091,\n          0.9833088073168742,\n          0.0603448275862069\n        ],\n        \"semantic_type\": \"\",\n        \"description\": \"\"\n      }\n    },\n    {\n      \"column\": \"Final Model\",\n      \"properties\": {\n        \"dtype\": \"number\",\n        \"std\": 0.516176275543391,\n        \"min\": 0.049689440993788817,\n        \"max\": 0.9813584350667847,\n        \"num_unique_values\": 4,\n        \"samples\": [\n          0.9491525423728814,\n          0.9813584350667847,\n          0.049689440993788817\n        ],\n        \"semantic_type\": \"\",\n        \"description\": \"\"\n      }\n    }\n  ]\n}"
            }
          },
          "metadata": {},
          "execution_count": 115
        }
      ]
    },
    {
      "cell_type": "markdown",
      "source": [
        "With the test data, the **F1-Score** was affected because the final model lost some of its **Precision**, detecting proportionally more false positives, however, its **Recall** rate increased, which is preferable in this type of problem. The ROC-AUC decreased due to the increase in false positives, however it still remained at a high level.\n",
        "\n",
        "---\n",
        "**ROC- Area Under the Curve**: Demonstrating the ability of the classification model to distinguish between classes."
      ],
      "metadata": {
        "id": "qQ3uS4xIcOll"
      }
    },
    {
      "cell_type": "code",
      "source": [
        "import matplotlib.pyplot as plt\n",
        "from sklearn.metrics import roc_curve, auc\n",
        "\n",
        "# Calculating FPR, TPR and Decision Threshold Rates\n",
        "fpr, tpr, thresholds = roc_curve(y_test, y_proba[:,1])\n",
        "\n",
        "# Calculating AUC value\n",
        "roc_auc = auc(fpr, tpr)\n",
        "\n",
        "# Showing the area under the curve ROC\n",
        "plt.figure(figsize=(8, 6))\n",
        "plt.plot(fpr, tpr, color='blue', lw=2, label=f'Curva ROC (AUC = {roc_auc:.4f})')\n",
        "plt.plot([0, 1], [0, 1], color='gray', linestyle='--')  # Reference line (random chance)\n",
        "plt.xlim([0.0, 1.0])\n",
        "plt.ylim([0.0, 1.05])\n",
        "plt.xlabel('False Positive Rate (FPR)', fontsize=12)\n",
        "plt.ylabel('True Positive Rate (TPR)', fontsize=12)\n",
        "plt.title('ROC Curve', fontsize=14)\n",
        "plt.legend(loc='lower right')\n",
        "plt.show()"
      ],
      "metadata": {
        "colab": {
          "base_uri": "https://localhost:8080/",
          "height": 569
        },
        "id": "1eaO80CDOG5Z",
        "outputId": "87689e4e-2e50-4983-aa1b-e5c6f5410ca3"
      },
      "execution_count": 98,
      "outputs": [
        {
          "output_type": "display_data",
          "data": {
            "text/plain": [
              "<Figure size 800x600 with 1 Axes>"
            ],
            "image/png": "[encoded data removed]"
          },
          "metadata": {}
        }
      ]
    },
    {
      "cell_type": "markdown",
      "metadata": {
        "id": "0Bj7zRZMSfO7"
      },
      "source": [
        "## Conclusions\n",
        "\n",
        "Finally, the standardization of the **project in phases** was an essential tool for correctly understanding the problem. The exploratory data analysis section was essential for obtaining the origin and **meanings of the data** and what can and cannot be done with it.\n",
        "\n",
        "The validation of different models in a heuristic way allowed **highlighting the negative and positive points** of each one, thus obtaining a superior model that managed to bring together the positive points.\n",
        "\n",
        "The final objective of this project was achieved by achieving **High Recall Rates** in the final test; of 59 fraudulent transactions, only 3 were not detected.\n"
      ]
    }
  ]
}